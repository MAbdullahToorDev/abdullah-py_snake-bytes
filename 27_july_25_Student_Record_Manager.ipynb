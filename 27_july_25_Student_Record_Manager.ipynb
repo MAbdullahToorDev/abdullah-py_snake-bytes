{
 "cells": [
  {
   "cell_type": "markdown",
   "id": "b86c8b5e",
   "metadata": {},
   "source": [
    "# Student Record Manager\n",
    "Add, update, delete, and search student records using file handling.\n"
   ]
  },
  {
   "cell_type": "markdown",
   "id": "e2b054bc",
   "metadata": {},
   "source": [
    "# Add_student"
   ]
  },
  {
   "cell_type": "code",
   "execution_count": 1,
   "id": "c60d2750",
   "metadata": {},
   "outputs": [],
   "source": [
    "student_file = \"students.txt\""
   ]
  },
  {
   "cell_type": "code",
   "execution_count": 2,
   "id": "1fa21586",
   "metadata": {},
   "outputs": [],
   "source": [
    "def add_student():\n",
    "    with open(f\"{student_file}\",\"a\") as file:\n",
    "        name = input(\"Enter Student Name: \")\n",
    "        roll = input(\"Enter Student Roll Number: \")\n",
    "        grade = input(\"Enter Grade: \")\n",
    "        file.write(f\"{roll},{name},{grade}\\n\")\n",
    "        print(\"Student Added Successfully!\\n\")\n"
   ]
  },
  {
   "cell_type": "markdown",
   "id": "75c41c40",
   "metadata": {},
   "source": [
    "# view_student"
   ]
  },
  {
   "cell_type": "code",
   "execution_count": 3,
   "id": "4dc618af",
   "metadata": {},
   "outputs": [],
   "source": [
    "def view_student():\n",
    "    with open(f\"{student_file}\", \"r\") as file:\n",
    "        students = file.readlines()\n",
    "        print(\"Roll\\tName\\tGrade\")\n",
    "        for s in students:\n",
    "           if s.strip(): \n",
    "             roll, name, grade = s.strip().split(\",\")\n",
    "             print(f\"{roll}\\t{name}\\t{grade}\")\n",
    "\n",
    "        print()    "
   ]
  },
  {
   "cell_type": "markdown",
   "id": "ce43a484",
   "metadata": {},
   "source": [
    "# Search_student"
   ]
  },
  {
   "cell_type": "code",
   "execution_count": 4,
   "id": "d0fd6c07",
   "metadata": {},
   "outputs": [],
   "source": [
    "def search_student():\n",
    "    roll_no = input(\"enter roll number to search: \")\n",
    "    found = False\n",
    "    with open(f\"{student_file}\", \"r\") as file:\n",
    "        for line in file:\n",
    "            roll, name, grade = line.strip().split(\",\")\n",
    "            if roll == roll_no:\n",
    "                print(f\"Found: {roll} - {name} - {grade}\\n\")\n",
    "                found = True\n",
    "                break\n",
    "    if not found:\n",
    "        print(\"Student not found.\\n\")        "
   ]
  },
  {
   "cell_type": "markdown",
   "id": "e9f337f5",
   "metadata": {},
   "source": [
    "# Delete_students"
   ]
  },
  {
   "cell_type": "code",
   "execution_count": 5,
   "id": "d2157199",
   "metadata": {},
   "outputs": [],
   "source": [
    "def delete_students():\n",
    "    roll_no = input(\"Enter roll Number To Delete: \")\n",
    "    found = False\n",
    "    lines = []\n",
    "    with open(f\"{student_file}\", \"r\") as file:\n",
    "        line = file.readline()\n",
    "    with open(f\"{student_file}\", \"w\") as file:\n",
    "        for line in lines:\n",
    "            roll, name, grade = line.strip().split(\",\")\n",
    "            if roll != roll_no:\n",
    "                file.write(line)\n",
    "            else:\n",
    "                found = True\n",
    "    if found:\n",
    "        print(\"student deleted successfully!\\n\")\n",
    "    else:\n",
    "        print(\"Student not found.\\n\")                        \n"
   ]
  },
  {
   "cell_type": "markdown",
   "id": "99162bd3",
   "metadata": {},
   "source": [
    "# Update_student"
   ]
  },
  {
   "cell_type": "code",
   "execution_count": 6,
   "id": "e11a72d2",
   "metadata": {},
   "outputs": [],
   "source": [
    "def update_student():\n",
    "    roll_no = input(\"Enter Roll Number To Update: \")\n",
    "    found = False\n",
    "    lines = []\n",
    "    with open(f\"{student_file}\", \"r\") as file:\n",
    "        line = file.readlines()\n",
    "    with open(f\"{student_file}\",\"w\") as file:\n",
    "        for line in lines:\n",
    "            roll, name, grade = line.strip().split(\",\")\n",
    "            if roll == roll_no:\n",
    "                new_name = input(\"Enter New Name: \")\n",
    "                new_grade = input(\"Enter new Grade: \")\n",
    "                file.write(f\"{roll},{new_name},{new_grade}\\n\")\n",
    "                found = True\n",
    "            else:\n",
    "                file.write(line)\n",
    "    if found:\n",
    "        print(\"Student Updated Successfully! \\n\")\n",
    "    else:\n",
    "        print(\"Student Not Found.\\n\")\n",
    "                        \n",
    "\n",
    "    "
   ]
  },
  {
   "cell_type": "code",
   "execution_count": 7,
   "id": "48d07ccf",
   "metadata": {},
   "outputs": [
    {
     "name": "stdout",
     "output_type": "stream",
     "text": [
      "------------Student Record Manager -----------\n",
      "1. Add Student: \n",
      "2. View All Student: \n",
      "3. Search Student: \n",
      "4. Delete Student: \n",
      "5. Update Student: \n",
      "6. Exit: \n",
      "Student Added Successfully!\n",
      "\n",
      "------------Student Record Manager -----------\n",
      "1. Add Student: \n",
      "2. View All Student: \n",
      "3. Search Student: \n",
      "4. Delete Student: \n",
      "5. Update Student: \n",
      "6. Exit: \n",
      "Roll\tName\tGrade\n",
      "F21-0409\tMuhammad Abdullah\tB\n",
      "F21-0406\tMuhammad Fayaz\tB\n",
      "F25-0101\tAbdul Samad\tA\n",
      "\n",
      "------------Student Record Manager -----------\n",
      "1. Add Student: \n",
      "2. View All Student: \n",
      "3. Search Student: \n",
      "4. Delete Student: \n",
      "5. Update Student: \n",
      "6. Exit: \n",
      "Exiting Program. \n",
      " Good Bye !\n"
     ]
    }
   ],
   "source": [
    "while True:\n",
    "    print(\"------------Student Record Manager -----------\")\n",
    "    print(\"1. Add Student: \")\n",
    "    print(\"2. View All Student: \")\n",
    "    print(\"3. Search Student: \")\n",
    "    print(\"4. Delete Student: \")\n",
    "    print(\"5. Update Student: \")\n",
    "    print(\"6. Exit: \")\n",
    "\n",
    "    choice = input(\"Enter your Choice Operation\").strip()\n",
    "\n",
    "    if choice == \"1\":\n",
    "        add_student()\n",
    "    elif choice == \"2\":\n",
    "        view_student()\n",
    "    elif choice == \"3\":\n",
    "        search_student()\n",
    "    elif choice == \"4\":\n",
    "        delete_students()\n",
    "    elif choice == \"5\":\n",
    "        update_display()  \n",
    "    elif choice == \"6\":\n",
    "        print (\"Exiting Program. \\n Good Bye !\")  \n",
    "        break\n",
    "    else:\n",
    "        print(\"Invalid choice. \\n Please Try Again.\\n\")\n",
    "\n",
    "    "
   ]
  },
  {
   "cell_type": "markdown",
   "id": "237b1fb7",
   "metadata": {},
   "source": []
  },
  {
   "cell_type": "code",
   "execution_count": null,
   "id": "2df96465",
   "metadata": {},
   "outputs": [],
   "source": []
  }
 ],
 "metadata": {
  "kernelspec": {
   "display_name": "base",
   "language": "python",
   "name": "python3"
  },
  "language_info": {
   "codemirror_mode": {
    "name": "ipython",
    "version": 3
   },
   "file_extension": ".py",
   "mimetype": "text/x-python",
   "name": "python",
   "nbconvert_exporter": "python",
   "pygments_lexer": "ipython3",
   "version": "3.11.4"
  }
 },
 "nbformat": 4,
 "nbformat_minor": 5
}
