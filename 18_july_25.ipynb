{
 "cells": [
  {
   "cell_type": "markdown",
   "id": "414592c3",
   "metadata": {},
   "source": [
    "String Characters and Slicing "
   ]
  },
  {
   "cell_type": "code",
   "execution_count": null,
   "id": "5ea6a1d5",
   "metadata": {},
   "outputs": [
    {
     "name": "stdout",
     "output_type": "stream",
     "text": [
      "a\n",
      "ammad Abdullah\n"
     ]
    }
   ],
   "source": [
    "name = \"Muhammad Abdullah\"\n",
    "print(name[3])\n",
    "print(name[3:])\n"
   ]
  },
  {
   "cell_type": "markdown",
   "id": "1cee5cbb",
   "metadata": {},
   "source": [
    "Booleans"
   ]
  },
  {
   "cell_type": "code",
   "execution_count": 10,
   "id": "9dbcbe9b",
   "metadata": {},
   "outputs": [
    {
     "name": "stdout",
     "output_type": "stream",
     "text": [
      "Yes\n"
     ]
    }
   ],
   "source": [
    "done = True\n",
    "if done :\n",
    "    print(\"Yes\")\n",
    "else:\n",
    "    print(\"No\")    "
   ]
  },
  {
   "cell_type": "code",
   "execution_count": 11,
   "id": "1671ca21",
   "metadata": {},
   "outputs": [],
   "source": [
    "book_1_read = True \n",
    "book_2_read = False\n",
    "read_any_book = any([book_1_read,book_2_read])"
   ]
  },
  {
   "cell_type": "markdown",
   "id": "7f85774b",
   "metadata": {},
   "source": [
    "Number Data Types"
   ]
  },
  {
   "cell_type": "code",
   "execution_count": 12,
   "id": "f3f3f531",
   "metadata": {},
   "outputs": [
    {
     "name": "stdout",
     "output_type": "stream",
     "text": [
      "2.0 3.0\n"
     ]
    }
   ],
   "source": [
    "num = 2+3j\n",
    "num_2 = complex(2,3)\n",
    "print(num_2.real,num_2.imag)"
   ]
  },
  {
   "cell_type": "markdown",
   "id": "c34cad65",
   "metadata": {},
   "source": [
    "Built-in Function      \n",
    "Absolute Value     \n",
    "Round Value   "
   ]
  },
  {
   "cell_type": "code",
   "execution_count": 22,
   "id": "60a0aa5b",
   "metadata": {},
   "outputs": [
    {
     "name": "stdout",
     "output_type": "stream",
     "text": [
      "5.5\n",
      "5.5\n"
     ]
    }
   ],
   "source": [
    "# a built-in function that returns the absolute value of a number.\n",
    "print(abs(-5.5))\n",
    "# rounds a number to a specific number of decimal places.\n",
    "print(round(5.49, 1))\n"
   ]
  },
  {
   "cell_type": "markdown",
   "id": "6785aea5",
   "metadata": {},
   "source": [
    "Enums"
   ]
  },
  {
   "cell_type": "code",
   "execution_count": 24,
   "id": "2019e576",
   "metadata": {},
   "outputs": [
    {
     "name": "stdout",
     "output_type": "stream",
     "text": [
      "1\n",
      "state.ACTIVE\n",
      "state.ACTIVE\n",
      "[<state.INACTIVE: 0>, <state.ACTIVE: 1>]\n",
      "2\n"
     ]
    }
   ],
   "source": [
    "from enum import Enum # Enumeration is the act of naming or listing things in order\n",
    "# used to define named constant values.\n",
    "#  These are useful when you want to represent states, options, or categories in a readable way.\n",
    "class state(Enum):\n",
    "    INACTIVE = 0\n",
    "    ACTIVE = 1\n",
    "print(state.ACTIVE.value)\n",
    "print(state(1))\n",
    "print(state['ACTIVE'])\n",
    "print(list(state))\n",
    "print(len(state))\n",
    "\n",
    "\n"
   ]
  },
  {
   "cell_type": "markdown",
   "id": "8d459026",
   "metadata": {},
   "source": [
    "INPUT"
   ]
  },
  {
   "cell_type": "code",
   "execution_count": 25,
   "id": "9a0fc08a",
   "metadata": {},
   "outputs": [
    {
     "name": "stdout",
     "output_type": "stream",
     "text": [
      "your age is 24\n"
     ]
    }
   ],
   "source": [
    "age = input(\"Enter your age :\")\n",
    "print(\"your age is \" + age)"
   ]
  },
  {
   "cell_type": "markdown",
   "id": "0b3c9b9c",
   "metadata": {},
   "source": [
    "Control Statements"
   ]
  },
  {
   "cell_type": "code",
   "execution_count": 29,
   "id": "ac97a1ad",
   "metadata": {},
   "outputs": [
    {
     "name": "stdout",
     "output_type": "stream",
     "text": [
      "the condition \n",
      "is true\n"
     ]
    }
   ],
   "source": [
    "condition = True \n",
    "name = \"Abdullah\"\n",
    "if condition == True:\n",
    "    print(\"the condition \")\n",
    "    print(\"is true\")\n",
    "elif name == \"Abdullah\":\n",
    "    print(\"the condition \")\n",
    "    print(\"is true\")    \n",
    "\n",
    "else:\n",
    "    print(\"the condition \")\n",
    "    print(\"is False\")"
   ]
  },
  {
   "cell_type": "markdown",
   "id": "f0367b22",
   "metadata": {},
   "source": [
    "List"
   ]
  },
  {
   "cell_type": "code",
   "execution_count": 60,
   "id": "3075e576",
   "metadata": {},
   "outputs": [
    {
     "name": "stdout",
     "output_type": "stream",
     "text": [
      "True\n",
      "['Roger', 'syd', 'Rani', True]\n",
      "True\n",
      "4\n",
      "['Judah', 'Rani', 'Roger', 'syd', 'Test', 'Test1', 'Test2']\n",
      "['Judah', 'Rani', 'Roger', 'syd', 'Test', 'Test1', 'Test2']\n",
      "['Judah', 'Rani', 'Roger', 'syd', 'Test', 'Test1', 'Test2']\n"
     ]
    }
   ],
   "source": [
    "dogs = [\"Roger\",\"syd\",1,True]\n",
    "dogs[2] = \"Rani\"\n",
    "print(\"Roger\" in dogs)\n",
    "\n",
    "print(dogs)\n",
    "print(dogs[3])\n",
    "print(len(dogs))\n",
    "dogs.extend([\"Judah\"])\n",
    "dogs += [False]\n",
    "dogs.remove(True)\n",
    "dogs.pop()  # it remove Last item\n",
    "\n",
    "dogs.insert(2,\"Test\")\n",
    "dogs[0:0]= [\"Test1\",\"Test2\"] # Slises\n",
    "dogs.sort() \n",
    "dogs.sort(key=str.lower)\n",
    "print(dogs)\n",
    "dogscopy = dogs[:]\n",
    "print(dogscopy)\n",
    "print(sorted(dogs,key=str.lower))"
   ]
  },
  {
   "cell_type": "markdown",
   "id": "86a89b45",
   "metadata": {},
   "source": [
    "Tupels"
   ]
  },
  {
   "cell_type": "code",
   "execution_count": 62,
   "id": "fb3a4db5",
   "metadata": {},
   "outputs": [
    {
     "name": "stdout",
     "output_type": "stream",
     "text": [
      "2\n",
      "True\n",
      "('Muhammad', 'Abdullah', 'SaddiqueAbdul Basit', 'Abdur Rehman')\n"
     ]
    }
   ],
   "source": [
    "name =(\"Muhammad\",\"Abdullah\")\n",
    "print(len(name))\n",
    "print(\"Muhammad\" in name)\n",
    "\n",
    "new_name = name + (\"Saddique\" \"Abdul Basit\",\"Abdur Rehman\")\n",
    "print(new_name)"
   ]
  },
  {
   "cell_type": "markdown",
   "id": "57f8759d",
   "metadata": {},
   "source": [
    "Dictionaries"
   ]
  },
  {
   "cell_type": "code",
   "execution_count": 75,
   "id": "05dfc7f1",
   "metadata": {},
   "outputs": [
    {
     "name": "stdout",
     "output_type": "stream",
     "text": [
      "24\n",
      "Abdullah\n",
      "('Age', '24')\n",
      "False\n",
      "dict_keys(['Name'])\n",
      "{'Name': 'Abdullah', 'favorite language': 'Python'}\n"
     ]
    }
   ],
   "source": [
    "student = {\"Name\":\"Muhammad\",\"Age\":\"24\"}\n",
    "print(student[\"Age\"])\n",
    "\n",
    "student[\"Name\"] = \"Abdullah\"\n",
    "print(student.get(\"Name\"))\n",
    "# The .pop() method is used with lists and dictionaries to remove and return an item.\n",
    "#print(student.pop(\"Name\"))\n",
    "print(student.popitem())\n",
    "print(\"Age\" in student)\n",
    "print(student.keys())\n",
    "student[\"favorite language\"] = \"Python\"\n",
    "\n",
    "print(student)\n"
   ]
  },
  {
   "cell_type": "markdown",
   "id": "d66d213f",
   "metadata": {},
   "source": [
    "Sets"
   ]
  },
  {
   "cell_type": "code",
   "execution_count": 81,
   "id": "df9d2013",
   "metadata": {},
   "outputs": [
    {
     "name": "stdout",
     "output_type": "stream",
     "text": [
      "{'Roger'}\n",
      "{'Say'}\n",
      "True\n",
      "False\n",
      "['Say', 'Roger']\n"
     ]
    }
   ],
   "source": [
    "set1 = {\"Roger\",\"Say\"}\n",
    "set2 = {\"Roger\"}\n",
    "intersect = set1 & set2\n",
    "print(intersect)\n",
    "mod = set1 - set2\n",
    "print(mod)\n",
    "mod_2 = set1 > set2\n",
    "print(mod_2)\n",
    "mod_3 = set1 < set2\n",
    "print(mod_3)\n",
    "print(list(set1))\n"
   ]
  },
  {
   "cell_type": "markdown",
   "id": "d55ea6b4",
   "metadata": {},
   "source": [
    "Function's"
   ]
  },
  {
   "cell_type": "code",
   "execution_count": null,
   "id": "f4210d82",
   "metadata": {},
   "outputs": [
    {
     "name": "stdout",
     "output_type": "stream",
     "text": [
      "Hello Abdullah\n",
      "Hello Muhammad\n",
      "Hello khan\n",
      "Hello My Friend\n"
     ]
    }
   ],
   "source": [
    "# A parameter is the variable listed inside the parentheses in a function definition.\n",
    "def hello(name):\n",
    "    print(\"Hello \" + name)\n",
    "# An argument is the actual value passed to the function when it is called.    \n",
    "hello(\"Abdullah\") \n",
    "hello(\"Muhammad\") \n",
    "def hellos(names = \"My Friend\"):\n",
    "    print(\"Hello \"+names)\n",
    "hellos(\"khan\") \n",
    "hellos()     \n",
    "\n"
   ]
  },
  {
   "cell_type": "code",
   "execution_count": 95,
   "id": "79a1d3b4",
   "metadata": {},
   "outputs": [
    {
     "name": "stdout",
     "output_type": "stream",
     "text": [
      "Hello khan , you are 24 years Old!\n"
     ]
    }
   ],
   "source": [
    "def hellos(names,age):\n",
    "    print(\"Hello \"+ names +\" , you are \" + str(age) + \" years Old!\")\n",
    "\n",
    "hellos(\"khan\",24) \n",
    " "
   ]
  },
  {
   "cell_type": "code",
   "execution_count": null,
   "id": "f2d4f109",
   "metadata": {},
   "outputs": [],
   "source": []
  }
 ],
 "metadata": {
  "kernelspec": {
   "display_name": "base",
   "language": "python",
   "name": "python3"
  },
  "language_info": {
   "codemirror_mode": {
    "name": "ipython",
    "version": 3
   },
   "file_extension": ".py",
   "mimetype": "text/x-python",
   "name": "python",
   "nbconvert_exporter": "python",
   "pygments_lexer": "ipython3",
   "version": "3.11.4"
  }
 },
 "nbformat": 4,
 "nbformat_minor": 5
}
