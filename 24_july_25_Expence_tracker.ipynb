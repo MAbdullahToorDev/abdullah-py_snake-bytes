{
 "cells": [
  {
   "cell_type": "markdown",
   "id": "45cb18b9",
   "metadata": {},
   "source": [
    " # Expense Tracker"
   ]
  },
  {
   "cell_type": "markdown",
   "id": "6ac446ad",
   "metadata": {},
   "source": [
    "Track daily expenses with date, category, and amount. Show total and average spending."
   ]
  },
  {
   "cell_type": "code",
   "execution_count": 16,
   "id": "72cb79ff",
   "metadata": {},
   "outputs": [],
   "source": [
    "Expenses = []\n",
    "\n",
    "while True:\n",
    "    date = input(\"Enter Date (DD-MM-YYYY)\")\n",
    "    category = input(\"Enter Category (Food, Travel)\")\n",
    "\n",
    "    try:\n",
    "        amount = float(input(\"Enter Amount:\"))\n",
    "    except ValueError:\n",
    "        print(\"Invalid Amount! ..... Try Again Please\")\n",
    "        continue\n",
    "    Expenses.append({\"date\":date,\"category\":category,\"amount\":amount})\n",
    "\n",
    "\n",
    "    more = input(\"Add Anything Else?   (y/n)\")\n",
    "    if more.lower() != 'y':\n",
    "        break\n",
    "\n",
    "# print(Expenses) is the correct to collect data."
   ]
  },
  {
   "cell_type": "markdown",
   "id": "490e14f0",
   "metadata": {},
   "source": [
    "Calculate total and average"
   ]
  },
  {
   "cell_type": "code",
   "execution_count": 17,
   "id": "7d6a9752",
   "metadata": {},
   "outputs": [],
   "source": [
    "total = sum(item[\"amount\"] for item in Expenses )\n",
    "average = total / len(Expenses) if Expenses else 0"
   ]
  },
  {
   "cell_type": "markdown",
   "id": "5af92a9f",
   "metadata": {},
   "source": [
    "Display results"
   ]
  },
  {
   "cell_type": "code",
   "execution_count": 22,
   "id": "9e9a6fc4",
   "metadata": {},
   "outputs": [
    {
     "name": "stdout",
     "output_type": "stream",
     "text": [
      "\n",
      "Your Expenses :\n",
      "25-07-2025   Fruit   Rs.250.0 \n",
      "25-07-2025   Travel   Rs.80.0 \n",
      "\n",
      "Total Spending   Rs.330.0\n",
      "Average Spending   Rs.165.00\n"
     ]
    }
   ],
   "source": [
    "print(\"\\nYour Expenses :\")\n",
    "for item in Expenses:\n",
    "    print(f\"{item['date']}   {item['category']}   Rs.{item['amount']} \")\n",
    "\n",
    "\n",
    "print(f\"\\nTotal Spending   Rs.{total}\")\n",
    "print(f\"Average Spending   Rs.{average:.2f}\")\n"
   ]
  },
  {
   "cell_type": "code",
   "execution_count": null,
   "id": "0e4e4909",
   "metadata": {},
   "outputs": [],
   "source": []
  }
 ],
 "metadata": {
  "kernelspec": {
   "display_name": "base",
   "language": "python",
   "name": "python3"
  },
  "language_info": {
   "codemirror_mode": {
    "name": "ipython",
    "version": 3
   },
   "file_extension": ".py",
   "mimetype": "text/x-python",
   "name": "python",
   "nbconvert_exporter": "python",
   "pygments_lexer": "ipython3",
   "version": "3.11.4"
  }
 },
 "nbformat": 4,
 "nbformat_minor": 5
}
