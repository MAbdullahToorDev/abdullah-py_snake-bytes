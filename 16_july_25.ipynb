{
 "cells": [
  {
   "cell_type": "markdown",
   "id": "ec87d8a1",
   "metadata": {},
   "source": [
    "Variables"
   ]
  },
  {
   "cell_type": "code",
   "execution_count": null,
   "id": "6fb6bc6e",
   "metadata": {},
   "outputs": [],
   "source": [
    "name = \"Abdullah\"\n",
    "age = 25\n",
    "Roll_Number = \"F21_0409\"\n",
    "Section = 'C'\n",
    "Hight = 5.6"
   ]
  },
  {
   "cell_type": "markdown",
   "id": "7d28b511",
   "metadata": {},
   "source": [
    "Expression's"
   ]
  },
  {
   "cell_type": "code",
   "execution_count": 6,
   "id": "666abf65",
   "metadata": {},
   "outputs": [
    {
     "data": {
      "text/plain": [
       "True"
      ]
     },
     "execution_count": 6,
     "metadata": {},
     "output_type": "execute_result"
    }
   ],
   "source": [
    "x = 5 + 3\n",
    "name +  \"Khan\"\n",
    "x * 2\n",
    "age >= 18"
   ]
  },
  {
   "cell_type": "markdown",
   "id": "5d0e08b4",
   "metadata": {},
   "source": [
    "Statement's"
   ]
  },
  {
   "cell_type": "code",
   "execution_count": 7,
   "id": "10cfb8b4",
   "metadata": {},
   "outputs": [
    {
     "name": "stdout",
     "output_type": "stream",
     "text": [
      "10\n",
      "You are Younger\n"
     ]
    }
   ],
   "source": [
    "age = 10\n",
    "print(age)\n",
    "if age >= 18:\n",
    "  print(\"You are Adult\")\n",
    "else:\n",
    "    print(\"You are Younger\")"
   ]
  },
  {
   "cell_type": "markdown",
   "id": "dcd03272",
   "metadata": {},
   "source": [
    "Comment's"
   ]
  },
  {
   "cell_type": "code",
   "execution_count": 9,
   "id": "e6b5afeb",
   "metadata": {},
   "outputs": [
    {
     "data": {
      "text/plain": [
       "'\\nThis is a multi-line comment.\\nYou can write on multiple lines.\\n'"
      ]
     },
     "execution_count": 9,
     "metadata": {},
     "output_type": "execute_result"
    }
   ],
   "source": [
    "# This is a Commented Line\n",
    "'''\n",
    "This is a multi-line comment.\n",
    "You can write on multiple lines.\n",
    "'''"
   ]
  },
  {
   "cell_type": "markdown",
   "id": "6836b267",
   "metadata": {},
   "source": [
    "Indentation in Python"
   ]
  },
  {
   "cell_type": "markdown",
   "id": "0a43e076",
   "metadata": {},
   "source": [
    "Indentation is the space at the beginning of a line that tells Python how code blocks are structured."
   ]
  },
  {
   "cell_type": "code",
   "execution_count": 11,
   "id": "b7632f2a",
   "metadata": {},
   "outputs": [],
   "source": [
    "'''In Python, indentation is not optional — \n",
    "it tells Python what belongs to what (like inside a loop, function, or if-statement).'''\n",
    "if age > 18:\n",
    "    print(\"You are an adult.\")  # This line is indented"
   ]
  },
  {
   "cell_type": "markdown",
   "id": "e3373b2b",
   "metadata": {},
   "source": [
    "Type function"
   ]
  },
  {
   "cell_type": "code",
   "execution_count": null,
   "id": "f620f069",
   "metadata": {},
   "outputs": [
    {
     "name": "stdout",
     "output_type": "stream",
     "text": [
      "<class 'int'>\n",
      "<class 'str'>\n",
      "<class 'float'>\n",
      "<class 'list'>\n",
      "<class 'bool'>\n"
     ]
    }
   ],
   "source": [
    "type(value)\n",
    "print(type(5))             # <class 'int'>\n",
    "print(type(\"Hello\"))       # <class 'str'>\n",
    "print(type(3.14))          # <class 'float'>\n",
    "print(type([1, 2, 3]))      # <class 'list'>\n",
    "print(type(True))          # <class 'bool'>\n"
   ]
  },
  {
   "cell_type": "markdown",
   "id": "a44481d2",
   "metadata": {},
   "source": [
    "isinstance()"
   ]
  },
  {
   "cell_type": "code",
   "execution_count": 17,
   "id": "8b1b5503",
   "metadata": {},
   "outputs": [
    {
     "name": "stdout",
     "output_type": "stream",
     "text": [
      "True\n",
      "True\n",
      "True\n",
      "False\n",
      "True\n"
     ]
    }
   ],
   "source": [
    "# The isinstance() function is used to check if a value belongs to a specific data type or class.\n",
    "# isinstance(value, type)\n",
    "\n",
    "x = 10\n",
    "print(isinstance(x, int))         # True\n",
    "\n",
    "name = \"Ayesha\"\n",
    "print(isinstance(name, str))      # True\n",
    "\n",
    "marks = [90, 80, 70]\n",
    "print(isinstance(marks, list))    # True\n",
    "\n",
    "print(isinstance(x, float))       # False\n",
    "\n",
    "name = \"Muhammad Abdullah\"\n",
    "print(isinstance(name,str))\n"
   ]
  },
  {
   "cell_type": "code",
   "execution_count": 18,
   "id": "6dffc496",
   "metadata": {},
   "outputs": [
    {
     "name": "stdout",
     "output_type": "stream",
     "text": [
      "\n",
      "📘 Semester 1\n",
      "\n",
      "Subject 1:\n",
      "\n",
      "Subject 2:\n",
      "\n",
      "Subject 3:\n",
      "\n",
      "Subject 4:\n",
      "\n",
      "Subject 5:\n",
      "\n",
      "Subject 6:\n",
      "✅ GPA for Semester 1: 2.44\n",
      "\n",
      "📘 Semester 2\n",
      "\n",
      "Subject 1:\n",
      "\n",
      "Subject 2:\n",
      "\n",
      "Subject 3:\n",
      "\n",
      "Subject 4:\n",
      "\n",
      "Subject 5:\n",
      "\n",
      "Subject 6:\n",
      "✅ GPA for Semester 2: 2.78\n",
      "\n",
      "📘 Semester 3\n",
      "\n",
      "Subject 1:\n",
      "\n",
      "Subject 2:\n",
      "\n",
      "Subject 3:\n",
      "\n",
      "Subject 4:\n",
      "\n",
      "Subject 5:\n",
      "✅ GPA for Semester 3: 2.59\n",
      "\n",
      "📘 Semester 4\n",
      "\n",
      "Subject 1:\n",
      "\n",
      "Subject 2:\n",
      "\n",
      "Subject 3:\n",
      "\n",
      "Subject 4:\n",
      "\n",
      "Subject 5:\n",
      "✅ GPA for Semester 4: 3.47\n",
      "\n",
      "📘 Semester 5\n",
      "\n",
      "Subject 1:\n",
      "\n",
      "Subject 2:\n",
      "\n",
      "Subject 3:\n",
      "\n",
      "Subject 4:\n",
      "\n",
      "Subject 5:\n",
      "\n",
      "Subject 6:\n",
      "✅ GPA for Semester 5: 2.33\n",
      "\n",
      "📘 Semester 6\n",
      "\n",
      "Subject 1:\n",
      "\n",
      "Subject 2:\n",
      "\n",
      "Subject 3:\n",
      "\n",
      "Subject 4:\n",
      "\n",
      "Subject 5:\n",
      "✅ GPA for Semester 6: 2.0\n",
      "\n",
      "📘 Semester 7\n",
      "\n",
      "Subject 1:\n",
      "\n",
      "Subject 2:\n",
      "\n",
      "Subject 3:\n",
      "\n",
      "Subject 4:\n",
      "✅ GPA for Semester 7: 2.38\n",
      "\n",
      "📘 Semester 8\n",
      "\n",
      "Subject 1:\n",
      "\n",
      "Subject 2:\n",
      "\n",
      "Subject 3:\n",
      "\n",
      "Subject 4:\n",
      "✅ GPA for Semester 8: 3.38\n",
      "\n",
      "🎓 Final CGPA after 8 semesters: 2.66\n"
     ]
    }
   ],
   "source": [
    "def get_grade_point(marks):\n",
    "    if marks < 50:\n",
    "        return 0\n",
    "    elif marks < 55:\n",
    "        return 1\n",
    "    elif marks < 60:\n",
    "        return 1.5\n",
    "    elif marks < 65:\n",
    "        return 2\n",
    "    elif marks < 70:\n",
    "        return 2.5\n",
    "    elif marks < 75:\n",
    "        return 3\n",
    "    elif marks < 80:\n",
    "        return 3.5\n",
    "    else:\n",
    "        return 4\n",
    "\n",
    "def calculate_semester_gpa():\n",
    "    subjects = int(input(\"How many subjects in this semester? \"))\n",
    "    total_points = 0\n",
    "    total_credits = 0\n",
    "\n",
    "    for i in range(subjects):\n",
    "        print(f\"\\nSubject {i+1}:\")\n",
    "        marks = float(input(\"  Enter marks: \"))\n",
    "        credit = float(input(\"  Enter credit hours: \"))\n",
    "        grade_point = get_grade_point(marks)\n",
    "        total_points += grade_point * credit\n",
    "        total_credits += credit\n",
    "\n",
    "    semester_gpa = total_points / total_credits if total_credits > 0 else 0\n",
    "    return semester_gpa, total_points, total_credits\n",
    "\n",
    "# Main loop for 8 semesters\n",
    "total_all_points = 0\n",
    "total_all_credits = 0\n",
    "\n",
    "for sem in range(8):\n",
    "    print(f\"\\n📘 Semester {sem+1}\")\n",
    "    sgpa, points, credits = calculate_semester_gpa()\n",
    "    print(f\"✅ GPA for Semester {sem+1}: {round(sgpa, 2)}\")\n",
    "    total_all_points += points\n",
    "    total_all_credits += credits\n",
    "\n",
    "# Final CGPA\n",
    "cgpa = total_all_points / total_all_credits if total_all_credits > 0 else 0\n",
    "print(f\"\\n🎓 Final CGPA after 8 semesters: {round(cgpa, 2)}\")\n"
   ]
  },
  {
   "cell_type": "code",
   "execution_count": null,
   "id": "0caaad08",
   "metadata": {},
   "outputs": [],
   "source": []
  }
 ],
 "metadata": {
  "kernelspec": {
   "display_name": "base",
   "language": "python",
   "name": "python3"
  },
  "language_info": {
   "codemirror_mode": {
    "name": "ipython",
    "version": 3
   },
   "file_extension": ".py",
   "mimetype": "text/x-python",
   "name": "python",
   "nbconvert_exporter": "python",
   "pygments_lexer": "ipython3",
   "version": "3.11.4"
  }
 },
 "nbformat": 4,
 "nbformat_minor": 5
}
