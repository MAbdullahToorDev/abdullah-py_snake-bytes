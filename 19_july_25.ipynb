{
 "cells": [
  {
   "cell_type": "markdown",
   "id": "27bcd31d",
   "metadata": {},
   "source": [
    "Variable Scope"
   ]
  },
  {
   "cell_type": "markdown",
   "id": "84d90395",
   "metadata": {},
   "source": [
    "Global Scope:"
   ]
  },
  {
   "cell_type": "code",
   "execution_count": 28,
   "id": "a1948c2d",
   "metadata": {},
   "outputs": [
    {
     "name": "stdout",
     "output_type": "stream",
     "text": [
      "Hello Dear Abdullah\n",
      "Abdullah\n"
     ]
    }
   ],
   "source": [
    "#A variable defined outside all functions.\n",
    "# Can be accessed from anywhere in the code.\n",
    "name = \"Abdullah\"\n",
    "\n",
    "def grtte(name):\n",
    "    print(\"Hello Dear \"+ name)\n",
    "grtte(name)    \n",
    "print(name)"
   ]
  },
  {
   "cell_type": "markdown",
   "id": "30067dc0",
   "metadata": {},
   "source": [
    "Local Scope:\n"
   ]
  },
  {
   "cell_type": "code",
   "execution_count": 29,
   "id": "0d7c00c4",
   "metadata": {},
   "outputs": [
    {
     "name": "stdout",
     "output_type": "stream",
     "text": [
      "Hello\n"
     ]
    }
   ],
   "source": [
    "#A variable defined inside a function.\n",
    "# Only accessible within that function.\n",
    "def greets():\n",
    "    message = \"Hello\"\n",
    "    print(message)\n",
    "greets()    "
   ]
  },
  {
   "cell_type": "markdown",
   "id": "42b1ac0c",
   "metadata": {},
   "source": [
    "Enclosing Scope (Nonlocal):\n"
   ]
  },
  {
   "cell_type": "code",
   "execution_count": 30,
   "id": "f0f2d324",
   "metadata": {},
   "outputs": [
    {
     "name": "stdout",
     "output_type": "stream",
     "text": [
      "Who are you\n",
      "Hello Mister Lawani\n"
     ]
    }
   ],
   "source": [
    "# A variable in the outer function used by the inner function.\n",
    "def outer():\n",
    "    print(\"Who are you\")\n",
    "    def inner ():\n",
    "       x = \"Hello Mister Lawani\"\n",
    "       print(x)\n",
    "    inner()   \n",
    "outer()    \n"
   ]
  },
  {
   "cell_type": "markdown",
   "id": "795cda36",
   "metadata": {},
   "source": [
    "Nested Functions :"
   ]
  },
  {
   "cell_type": "markdown",
   "id": "1a4b8abf",
   "metadata": {},
   "source": [
    "If you don’t use nonlocal, the inner function can’t modify the outer count.      \n",
    "\n",
    "With nonlocal, the inner increment() function can access and modify count = 0 from the outer count() function."
   ]
  },
  {
   "cell_type": "code",
   "execution_count": 31,
   "id": "79a4bfba",
   "metadata": {},
   "outputs": [
    {
     "name": "stdout",
     "output_type": "stream",
     "text": [
      "1\n"
     ]
    }
   ],
   "source": [
    "# A nested function is a function defined inside another function. It can only be called within the outer function unless returned explicitly.\n",
    "\n",
    "def count():\n",
    "    count = 0\n",
    "\n",
    "    def increment():\n",
    "        nonlocal count # nonlocal is used inside a nested function to refer to a variable from the outer (but not global) scope.\n",
    "        count = count + 1\n",
    "        print(count)\n",
    "    increment()\n",
    "\n",
    "count()        "
   ]
  },
  {
   "cell_type": "markdown",
   "id": "fb52f735",
   "metadata": {},
   "source": [
    "Closures :      \n",
    "A closure in Python is a function defined inside another function,       that remembers the variables from the enclosing (outer) function even after the outer function has finished executing.\n",
    "\n"
   ]
  },
  {
   "cell_type": "code",
   "execution_count": 32,
   "id": "822fd233",
   "metadata": {},
   "outputs": [
    {
     "name": "stdout",
     "output_type": "stream",
     "text": [
      "1\n",
      "2\n",
      "3\n"
     ]
    }
   ],
   "source": [
    "\n",
    "def counter():\n",
    "    count = 0\n",
    "\n",
    "    def increment():\n",
    "        nonlocal count # nonlocal is used inside a nested function to refer to a variable from the outer (but not global) scope.\n",
    "        count += 1\n",
    "        return count\n",
    "    # return increment()  # ← ❗️Don't CALLING the function here\n",
    "    return increment # You return the FUNCTION, not the result\n",
    "\n",
    "# Now `increment` is a closure\n",
    "increment = counter() \n",
    "\n",
    "print(increment())    \n",
    "    \n",
    "print(increment())\n",
    "    \n",
    "print(increment())"
   ]
  },
  {
   "cell_type": "markdown",
   "id": "20f02b4a",
   "metadata": {},
   "source": [
    "Object"
   ]
  },
  {
   "cell_type": "code",
   "execution_count": 33,
   "id": "a0b0ed0c",
   "metadata": {},
   "outputs": [
    {
     "name": "stdout",
     "output_type": "stream",
     "text": [
      "8\n",
      "0\n",
      "4\n",
      "1\n",
      "[1, 2, 3, 4, 5, 6]\n",
      "[1, 3, 4, 5, 6]\n",
      "5782781184\n",
      "The Price is : 150\n"
     ]
    }
   ],
   "source": [
    "age = 8\n",
    "\n",
    "print(age.real)\n",
    "print(age.imag)\n",
    "print(age.bit_length())\n",
    "print(age.bit_count())\n",
    "\n",
    "items = [1,2,3,4,5]\n",
    "items.append(6)\n",
    "print(items)\n",
    "items.pop(1)\n",
    "print(items)\n",
    "print(id(items))\n",
    "\n",
    "price = 100\n",
    "price += 50\n",
    "print(\"The Price is : \" + str(price))"
   ]
  },
  {
   "cell_type": "markdown",
   "id": "694c7355",
   "metadata": {},
   "source": [
    "Loops:\n"
   ]
  },
  {
   "cell_type": "markdown",
   "id": "24266266",
   "metadata": {},
   "source": [
    "While Loops:"
   ]
  },
  {
   "cell_type": "code",
   "execution_count": 34,
   "id": "130b007b",
   "metadata": {},
   "outputs": [
    {
     "name": "stdout",
     "output_type": "stream",
     "text": [
      "The condition ...........\n",
      "The condetion is true\n",
      "The condetion is true\n",
      "The condetion is true\n",
      "The condetion is true\n",
      "The condetion is true\n",
      "After End The Loop\n"
     ]
    }
   ],
   "source": [
    "profation = True\n",
    "while profation == True:\n",
    "    print(\"The condition ...........\")\n",
    "    profation = False\n",
    "\n",
    "count = 0\n",
    "while count < 5:\n",
    "    print(\"The condetion is true\")\n",
    "    count = count + 1\n",
    "\n",
    "print(\"After End The Loop\")"
   ]
  },
  {
   "cell_type": "markdown",
   "id": "217fc320",
   "metadata": {},
   "source": [
    "For Loops:"
   ]
  },
  {
   "cell_type": "code",
   "execution_count": 9,
   "id": "8ae331a2",
   "metadata": {},
   "outputs": [
    {
     "name": "stdout",
     "output_type": "stream",
     "text": [
      "1\n",
      "2\n",
      "3\n",
      "4\n",
      "5\n",
      "End of Loop\n",
      "0 1\n",
      "1 2\n",
      "2 3\n",
      "3 4\n",
      "4 5\n",
      "End of Loop\n",
      "0 Muhammad\n",
      "1 Abdullah\n",
      "2 Abdul\n",
      "3 Basit\n",
      "4 Saddique\n",
      "End of Loop\n"
     ]
    }
   ],
   "source": [
    "items = [1,2,3,4,5]\n",
    "for item in (items): \n",
    "    print(item)\n",
    "print(\"End of Loop\")\n",
    "\n",
    "items = [1,2,3,4,5]\n",
    "for index,item in enumerate(items): # enumerate use for index of Object\n",
    "    print(index,item)  \n",
    "print(\"End of Loop\")\n",
    "\n",
    "items = [\"Muhammad\",\"Abdullah\",\"Abdul\",\"Basit\",\"Saddique\"]\n",
    "for index,item in enumerate(items): # enumerate use for index of Object\n",
    "    print(index,item)\n",
    "print(\"End of Loop\")\n",
    "   \n",
    "\n"
   ]
  },
  {
   "cell_type": "markdown",
   "id": "9713997e",
   "metadata": {},
   "source": [
    "Break And Continue"
   ]
  },
  {
   "cell_type": "code",
   "execution_count": 10,
   "id": "1af0cbe0",
   "metadata": {},
   "outputs": [
    {
     "name": "stdout",
     "output_type": "stream",
     "text": [
      "Muhammad\n",
      "Abdul\n",
      "Basit\n",
      "Saddique\n",
      "........................\n",
      "Muhammad\n",
      "End of Loop\n"
     ]
    }
   ],
   "source": [
    "items = [\"Muhammad\",\"Abdullah\",\"Abdul\",\"Basit\",\"Saddique\"]\n",
    "for item in (items):\n",
    "    if item == \"Abdullah\":\n",
    "       continue\n",
    "    print(item)\n",
    "print(\"........................\")\n",
    "\n",
    "Names = [\"Muhammad\",\"Abdullah\",\"Abdul\",\"Basit\",\"Saddique\"]\n",
    "for name in (Names): \n",
    "      if name == \"Abdullah\":\n",
    "          break\n",
    "      print(name)\n",
    "      \n",
    "print(\"End of Loop\")"
   ]
  },
  {
   "cell_type": "markdown",
   "id": "5581ec3f",
   "metadata": {},
   "source": [
    "Classes"
   ]
  },
  {
   "cell_type": "code",
   "execution_count": 11,
   "id": "bc47e994",
   "metadata": {},
   "outputs": [
    {
     "name": "stdout",
     "output_type": "stream",
     "text": [
      "Gwaab\n"
     ]
    }
   ],
   "source": [
    "class Dog:\n",
    "    def bark(self): # self refers to the current object and allows access to its own variables and methods; Python passes it automatically to instance methods.\n",
    "        print(\"Gwaab\")\n",
    "\n",
    "# raja is the instance of the class Dog.      \n",
    "raja = Dog() \n",
    "raja.bark()\n",
    "\n",
    "\n"
   ]
  },
  {
   "cell_type": "code",
   "execution_count": 12,
   "id": "8bbc335b",
   "metadata": {},
   "outputs": [
    {
     "name": "stdout",
     "output_type": "stream",
     "text": [
      "Shino\n",
      "2\n",
      "Pakistan\n",
      "Mewww\n"
     ]
    }
   ],
   "source": [
    "class Cat:\n",
    "    def __init__(self , name , age , national):\n",
    "        self.name = name\n",
    "        self.age = age\n",
    "        self.national = national\n",
    "\n",
    "    def Talk(self):\n",
    "        print(\"Mewww\")\n",
    "pesho = Cat(\"Shino\",2,\"Pakistan\")\n",
    "print(pesho.name)\n",
    "print(pesho.age)\n",
    "print(pesho.national)\n",
    "pesho.Talk()\n"
   ]
  },
  {
   "cell_type": "code",
   "execution_count": 13,
   "id": "f4749ace",
   "metadata": {},
   "outputs": [
    {
     "name": "stdout",
     "output_type": "stream",
     "text": [
      "Metry says: Baaaaa!\n",
      "Name : Metry, Age :5 Color :Black\n"
     ]
    }
   ],
   "source": [
    "class Animal:\n",
    "    def __init__(self,name,age):\n",
    "        self.name = name\n",
    "        self.age = age\n",
    "\n",
    "    def speak(self):\n",
    "        print(f\"{self.name} make a sound\")\n",
    "\n",
    "class Cow(Animal):\n",
    "    def __init__(self, name, age,color):\n",
    "        super().__init__(name, age) # \tCalls the parent constructor\n",
    "        self.color = color\n",
    "\n",
    "    def speak(self):\n",
    "        print(f\"{self.name} says: Baaaaa!\")\n",
    "\n",
    "    def show_info(self):        \n",
    "        print(f\"Name : {self.name}, Age :{self.age} Color :{self.color}\")\n",
    "\n",
    "gwa = Cow(\"Metry\",5,\"Black\")\n",
    "\n",
    "gwa.speak()\n",
    "gwa.show_info()\n"
   ]
  },
  {
   "cell_type": "code",
   "execution_count": 14,
   "id": "1db0f5f0",
   "metadata": {},
   "outputs": [
    {
     "name": "stdout",
     "output_type": "stream",
     "text": [
      "Gwaab\n",
      "Walking.......\n"
     ]
    }
   ],
   "source": [
    "class Animal:\n",
    "    def walk(self):\n",
    "        print(\"Walking.......\")\n",
    "\n",
    "class Dog(Animal):\n",
    "    def bark(self): # self refers to the current object and allows access to its own variables and methods; Python passes it automatically to instance methods.\n",
    "        print(\"Gwaab\")\n",
    "\n",
    "# raja is the instance of the class Dog.      \n",
    "raja = Dog() \n",
    "raja.bark()\n",
    "raja.walk()"
   ]
  },
  {
   "cell_type": "markdown",
   "id": "400a1b54",
   "metadata": {},
   "source": [
    "Modules :"
   ]
  },
  {
   "cell_type": "markdown",
   "id": "90ecfda0",
   "metadata": {},
   "source": [
    "A module is simply a Python file (.py) that contains code — like functions, classes, or variables —          which you can reuse in other programs by importing it."
   ]
  },
  {
   "cell_type": "code",
   "execution_count": 15,
   "id": "1fd93b27",
   "metadata": {},
   "outputs": [
    {
     "data": {
      "text/plain": [
       "' \\nAnimal.py\\n\\nTo Import  \\n\\nmain.py \\n\\n'"
      ]
     },
     "execution_count": 15,
     "metadata": {},
     "output_type": "execute_result"
    }
   ],
   "source": [
    "\"\"\" \n",
    "Animal.py\n",
    "\n",
    "To Import  \n",
    "\n",
    "main.py \n",
    "\n",
    "\"\"\"\n",
    "# This is simple way\n",
    "#  You can organize your code in separate files, and use from filename import ClassName to reuse your classes easily in any Python file."
   ]
  },
  {
   "cell_type": "code",
   "execution_count": 16,
   "id": "7594ef8b",
   "metadata": {},
   "outputs": [
    {
     "data": {
      "text/plain": [
       "\"'if you organize your code in folders (like a Lib folder) \\nand want to import files like Animal.py from that folder,\\n you can make it a Python package by adding an __init__.py file.\""
      ]
     },
     "execution_count": 16,
     "metadata": {},
     "output_type": "execute_result"
    }
   ],
   "source": [
    "''''if you organize your code in folders (like a Lib folder) \n",
    "and want to import files like Animal.py from that folder,\n",
    " you can make it a Python package by adding an __init__.py file.'''"
   ]
  },
  {
   "cell_type": "markdown",
   "id": "d8a35326",
   "metadata": {},
   "source": [
    "Built-in Modules"
   ]
  },
  {
   "cell_type": "code",
   "execution_count": 17,
   "id": "2c120784",
   "metadata": {},
   "outputs": [
    {
     "name": "stdout",
     "output_type": "stream",
     "text": [
      "3.141592653589793\n",
      "5.0\n"
     ]
    }
   ],
   "source": [
    "import math\n",
    "\n",
    "print(math.pi)\n",
    "print(math.sqrt(25))"
   ]
  },
  {
   "cell_type": "code",
   "execution_count": 18,
   "id": "fb8ca97b",
   "metadata": {},
   "outputs": [
    {
     "name": "stdout",
     "output_type": "stream",
     "text": [
      "7\n"
     ]
    }
   ],
   "source": [
    "import random\n",
    "\n",
    "print(random.randint(1,100))"
   ]
  },
  {
   "cell_type": "code",
   "execution_count": 19,
   "id": "efba6726",
   "metadata": {},
   "outputs": [
    {
     "name": "stdout",
     "output_type": "stream",
     "text": [
      "Current Time 2025-07-20 01:32:13.377710\n"
     ]
    }
   ],
   "source": [
    "import datetime\n",
    "\n",
    "now = datetime.datetime.now()\n",
    "print(\"Current Time\",now)"
   ]
  },
  {
   "cell_type": "code",
   "execution_count": 20,
   "id": "7695aa8a",
   "metadata": {},
   "outputs": [
    {
     "name": "stdout",
     "output_type": "stream",
     "text": [
      "/Users/abdullah/Code/Python_for_Beginners\n"
     ]
    }
   ],
   "source": [
    "import os\n",
    "\n",
    "print(os.getcwd())"
   ]
  },
  {
   "cell_type": "markdown",
   "id": "6aaf1d66",
   "metadata": {},
   "source": [
    "How to See All Built-in Modules?"
   ]
  },
  {
   "cell_type": "code",
   "execution_count": 22,
   "id": "6cf33212",
   "metadata": {},
   "outputs": [
    {
     "name": "stdout",
     "output_type": "stream",
     "text": [
      "\n",
      "Please wait a moment while I gather a list of all available modules...\n",
      "\n"
     ]
    },
    {
     "name": "stderr",
     "output_type": "stream",
     "text": [
      "WARNING: AstropyDeprecationWarning: The private astropy._erfa module has been made into its own package, pyerfa, which is a dependency of astropy and can be imported directly using \"import erfa\" [astropy._erfa]\n",
      "/Users/abdullah/anaconda3/lib/python3.11/site-packages/nltk/twitter/__init__.py:20: UserWarning: The twython library has not been installed. Some functionality from the twitter package will not be available.\n",
      "  warnings.warn(\n",
      "/Users/abdullah/anaconda3/lib/python3.11/pkgutil.py:92: NumbaPendingDeprecationWarning: \u001b[1mThe 'pycc' module is pending deprecation. Replacement technology is being developed.\n",
      "\n",
      "Pending Deprecation in Numba 0.57.0. For more information please see: https://numba.readthedocs.io/en/stable/reference/deprecation.html#deprecation-of-the-numba-pycc-module\u001b[0m\n",
      "  __import__(info.name)\n",
      "/Users/abdullah/anaconda3/lib/python3.11/pkgutil.py:92: UserWarning: The numpy.array_api submodule is still experimental. See NEP 47.\n",
      "  __import__(info.name)\n",
      "/Users/abdullah/anaconda3/lib/python3.11/site-packages/_distutils_hack/__init__.py:33: UserWarning: Setuptools is replacing distutils.\n",
      "  warnings.warn(\"Setuptools is replacing distutils.\")\n",
      "No QCoreApplication instance found. Application patches not applied. You have to call load_stylesheet function after instantiation of QApplication to take effect. \n",
      "Neither PyTorch nor TensorFlow >= 2.0 have been found.Models won't be available and only tokenizers, configurationand file/data utilities can be used.\n"
     ]
    },
    {
     "name": "stdout",
     "output_type": "stream",
     "text": [
      "AppKit              bottleneck          jupyter_server_ydoc regex\n",
      "Cocoa               brotli              jupyter_ydoc        repo_cli\n",
      "CoreFoundation      bs4                 jupyterlab          reprlib\n",
      "CoreServices        builtins            jupyterlab_plotly   requests\n",
      "FSEvents            bz2                 jupyterlab_pygments requests_file\n",
      "Foundation          cProfile            jupyterlab_server   requests_toolbelt\n",
      "IPython             calendar            jupyterlab_widgets  resource\n",
      "Lib                 certifi             jwt                 rfc3339_validator\n",
      "OpenSSL             cffi                keyring             rfc3986_validator\n",
      "PIL                 cgi                 keyword             rlcompleter\n",
      "PyQt5               cgitb               kiwisolver          rope\n",
      "Rock_Paper_Scissors_Game chardet             lazy_loader         rtree\n",
      "TBB                 charset_normalizer  lazy_object_proxy   ruamel_yaml\n",
      "__future__          chunk               lib2to3             runpy\n",
      "__hello__           click               libarchive          s3fs\n",
      "__phello__          cloudpickle         libfuturize         s3transfer\n",
      "_abc                clyent              libmambapy          sacremoses\n",
      "_aix_support        cmath               libpasteurize       sched\n",
      "_argon2_cffi_bindings cmd                 lief                scipy\n",
      "_ast                code                linecache           scrapy\n",
      "_asyncio            codecs              linkify_it          seaborn\n",
      "_bisect             codeop              llvmlite            secrets\n",
      "_black_version      collections         lmdb                select\n",
      "_blake2             colorama            locale              selectors\n",
      "_bootsubprocess     colorcet            locket              send2trash\n",
      "_bz2                colorsys            logging             sentencepiece\n",
      "_cffi_backend       comm                lxml                service_identity\n",
      "_codecs             compileall          lz4                 setuptools\n",
      "_codecs_cn          concurrent          lzma                shelve\n",
      "_codecs_hk          conda               mactypes            shlex\n",
      "_codecs_iso2022     conda_build         mailbox             shutil\n",
      "_codecs_jp          conda_content_trust mailcap             signal\n",
      "_codecs_kr          conda_env           main                sipbuild\n",
      "_codecs_tw          conda_index         markdown            site\n",
      "_collections        conda_libmamba_solver markdown_it         six\n",
      "_collections_abc    conda_pack          markupsafe          skimage\n",
      "_compat_pickle      conda_package_handling marshal             sklearn\n",
      "_compression        conda_package_streaming math                slugify\n",
      "_contextvars        conda_token         matplotlib          smart_open\n",
      "_crypt              conda_verify        matplotlib_inline   smtpd\n",
      "_csv                configparser        mccabe              smtplib\n",
      "_ctypes             constantly          mdit_py_plugins     snappy\n",
      "_ctypes_test        contextlib          mdurl               sndhdr\n",
      "_curses             contextvars         mimetypes           sniffio\n",
      "_curses_panel       contourpy           mistune             snowballstemmer\n",
      "_datetime           cookiecutter        mmap                socket\n",
      "_dbm                copy                modulefinder        socketserver\n",
      "_decimal            copyreg             more_itertools      socks\n",
      "_distutils_hack     cpuinfo             mpmath              sockshandler\n",
      "_elementtree        crypt               msgpack             sortedcontainers\n",
      "_functools          cryptography        multidict           soupsieve\n",
      "_hashlib            cssselect           multipledispatch    sphinx\n",
      "_heapq              csv                 multiprocessing     spyder\n",
      "_imp                ctypes              munkres             spyder_kernels\n",
      "_io                 curl                mypy_extensions     sqlalchemy\n",
      "_json               curses              navigator_updater   sqlite3\n",
      "_locale             cycler              nbclassic           sre_compile\n",
      "_lsprof             cytoolz             nbclient            sre_constants\n",
      "_lzma               dask                nbconvert           sre_parse\n",
      "_markupbase         dataclasses         nbformat            ssl\n",
      "_md5                datashader          nest_asyncio        stack_data\n",
      "_multibytecodec     datashape           netrc               stat\n",
      "_multiprocessing    datetime            networkx            statistics\n",
      "_opcode             dateutil            nis                 statsmodels\n",
      "_operator           dbm                 nltk                string\n",
      "_osx_support        debugpy             nntplib             stringprep\n",
      "_pickle             decimal             notebook            struct\n",
      "_plotly_future_     decorator           notebook_shim       subprocess\n",
      "_plotly_utils       defusedxml          ntpath              sunau\n",
      "_posixshmem         diff_match_patch    nturl2path          sympy\n",
      "_posixsubprocess    difflib             numba               symtable\n",
      "_py_abc             dill                numbergen           sys\n",
      "_pydecimal          dis                 numbers             sysconfig\n",
      "_pyio               distributed         numexpr             syslog\n",
      "_pyrsistent_version distutils           numpy               tables\n",
      "_pytest             docstring_to_markdown numpydoc            tabnanny\n",
      "_queue              doctest             objc                tabulate\n",
      "_random             docutils            opcode              tarfile\n",
      "_scproxy            email               openpyxl            tbb\n",
      "_sha1               encodings           operator            tblib\n",
      "_sha256             ensurepip           optparse            telnetlib\n",
      "_sha3               entrypoints         os                  tempfile\n",
      "_sha512             enum                osax                tenacity\n",
      "_signal             erfa                packaging           terminado\n",
      "_sitebuiltins       errno               pandas              termios\n",
      "_socket             et_xmlfile          pandocfilters       test\n",
      "_sqlite3            executing           panel               test_pycosat\n",
      "_sre                fastjsonschema      param               text_unidecode\n",
      "_ssl                faulthandler        parsel              textdistance\n",
      "_stat               fcntl               parso               textwrap\n",
      "_statistics         filecmp             partd               this\n",
      "_string             fileinput           past                threading\n",
      "_strptime           filelock            pathlib             threadpoolctl\n",
      "_struct             flake8              pathspec            three_merge\n",
      "_symtable           flask               patsy               tifffile\n",
      "_sysconfigdata__darwin_darwin fnmatch             pdb                 time\n",
      "_sysconfigdata_x86_64_apple_darwin13_4_0 fontTools           pep8                timeit\n",
      "_testbuffer         fqdn                pexpect             tinycss2\n",
      "_testcapi           fractions           pickle              tkinter\n",
      "_testclinic         frozenlist          pickleshare         tldextract\n",
      "_testimportmultiple fsspec              pickletools         tlz\n",
      "_testinternalcapi   ftplib              pip                 token\n",
      "_testmultiphase     functools           pipes               tokenize\n",
      "_thread             future              pkg_resources       toml\n",
      "_threading_local    gc                  pkginfo             tomlkit\n",
      "_tkinter            genericpath         pkgutil             tomllib\n",
      "_tokenize           gensim              platform            toolz\n",
      "_tracemalloc        getopt              platformdirs        tornado\n",
      "_typing             getpass             plistlib            tqdm\n",
      "_uuid               gettext             plotly              trace\n",
      "_warnings           glob                pluggy              traceback\n",
      "_watchdog_fsevents  glob2               ply                 tracemalloc\n",
      "_weakref            gmpy2               pooch               traitlets\n",
      "_weakrefset         graphlib            poplib              transformers\n",
      "_xxsubinterpreters  greenlet            posix               tty\n",
      "_xxtestfuzz         grp                 posixpath           turtle\n",
      "_yaml               gzip                poyo                turtledemo\n",
      "_zoneinfo           h5py                pprint              twisted\n",
      "abc                 hashlib             profile             types\n",
      "aem                 heapdict            prometheus_client   typing\n",
      "aifc                heapq               prompt_toolkit      typing_extensions\n",
      "aiobotocore         hmac                protego             uc_micro\n",
      "aiofiles            holoviews           pstats              ujson\n",
      "aiohttp             html                psutil              unicodedata\n",
      "aioitertools        http                pty                 unidecode\n",
      "aiosignal           hvplot              ptyprocess          unittest\n",
      "aiosqlite           hyperlink           pure_eval           uri_template\n",
      "alabaster           idlelib             pvectorc            urllib\n",
      "anaconda_catalogs   idna                pwd                 urllib3\n",
      "anaconda_navigator  imagecodecs         py                  uu\n",
      "anaconda_project    imageio             py_compile          uuid\n",
      "antigravity         imagesize           pyarrow             venv\n",
      "anyio               imaplib             pyasn1              w3lib\n",
      "appdirs             imblearn            pyasn1_modules      warnings\n",
      "applaunchservices   imghdr              pyclbr              watchdog\n",
      "appnope             imp                 pycodestyle         wave\n",
      "appscript           importlib           pycosat             wcwidth\n",
      "argon2              importlib_metadata  pycparser           weakref\n",
      "argparse            incremental         pyct                webbrowser\n",
      "array               inflection          pycurl              webcolors\n",
      "arrow               iniconfig           pydispatch          webencodings\n",
      "ast                 inspect             pydoc               websocket\n",
      "astroid             intake              pydoc_data          werkzeug\n",
      "astropy             intervaltree        pydocstyle          whatthepatch\n",
      "asttokens           io                  pyexpat             wheel\n",
      "async_timeout       ipaddress           pyflakes            widgetsnbextension\n",
      "asynchat            ipykernel           pygments            wrapt\n",
      "asyncio             ipykernel_launcher  pylab               wsgiref\n",
      "asyncore            ipython_genutils    pylint              wurlitzer\n",
      "atexit              ipywidgets          pylint_venv         xarray\n",
      "atomicwrites        isoduration         pyls_spyder         xdrlib\n",
      "attr                isort               pylsp               xlwings\n",
      "attrs               isympy              pylsp_black         xml\n",
      "audioop             itemadapter         pylsp_jsonrpc       xmlrpc\n",
      "automat             itemloaders         pyodbc              xxlimited\n",
      "autopep8            itertools           pyparsing           xxlimited_35\n",
      "babel               itsdangerous        pyrsistent          xxsubtype\n",
      "backcall            jedi                pytest              xyzservices\n",
      "backports           jellyfish           pythonjsonlogger    y_py\n",
      "base64              jinja2              pytoolconfig        yaml\n",
      "bcrypt              jinja2_time         pytz                yapf\n",
      "bdb                 jmespath            pyviz_comms         yapftests\n",
      "binaryornot         joblib              pywt                yarl\n",
      "binascii            json                qdarkstyle          ypy_websocket\n",
      "binstar_client      json5               qstylizer           zict\n",
      "bisect              jsonpatch           qtawesome           zipapp\n",
      "black               jsonpointer         qtconsole           zipfile\n",
      "blackd              jsonschema          qtpy                zipimport\n",
      "bleach              jupyter_client      queue               zipp\n",
      "blib2to3            jupyter_console     queuelib            zlib\n",
      "bokeh               jupyter_core        quopri              zmq\n",
      "boltons             jupyter_events      random              zoneinfo\n",
      "boto3               jupyter_server      re                  zope\n",
      "botocore            jupyter_server_fileid readline            zstandard\n",
      "\n",
      "Enter any module name to get more help.  Or, type \"modules spam\" to search\n",
      "for modules whose name or summary contain the string \"spam\".\n",
      "\n"
     ]
    },
    {
     "name": "stderr",
     "output_type": "stream",
     "text": [
      "/Users/abdullah/anaconda3/lib/python3.11/pkgutil.py:107: VisibleDeprecationWarning:\n",
      "\n",
      "zmq.eventloop.minitornado is deprecated in pyzmq 14.0 and will be removed.\n",
      "    Install tornado itself to use zmq with the tornado IOLoop.\n",
      "    \n",
      "\n"
     ]
    }
   ],
   "source": [
    "help(\"modules\")"
   ]
  },
  {
   "cell_type": "markdown",
   "id": "f03752df",
   "metadata": {},
   "source": [
    "Command Line Arguments "
   ]
  },
  {
   "cell_type": "code",
   "execution_count": 25,
   "id": "f0c72378",
   "metadata": {},
   "outputs": [
    {
     "name": "stdout",
     "output_type": "stream",
     "text": [
      "All Arguments: ['/Users/abdullah/anaconda3/lib/python3.11/site-packages/ipykernel_launcher.py', '--f=/Users/abdullah/Library/Jupyter/runtime/kernel-v3b58bbfed41374a4e81d7c1184cc9db125e7a30e0.json']\n",
      "Hello, --f=/Users/abdullah/Library/Jupyter/runtime/kernel-v3b58bbfed41374a4e81d7c1184cc9db125e7a30e0.json!\n"
     ]
    }
   ],
   "source": [
    "import sys\n",
    "\n",
    "# sys.argv is a list. First item is the filename.\n",
    "print(\"All Arguments:\", sys.argv)\n",
    "\n",
    "# Access the argument\n",
    "name = sys.argv[1]\n",
    "print(f\"Hello, {name}!\")\n"
   ]
  },
  {
   "cell_type": "code",
   "execution_count": 26,
   "id": "69f49cb8",
   "metadata": {},
   "outputs": [
    {
     "name": "stderr",
     "output_type": "stream",
     "text": [
      "usage: ipykernel_launcher.py [-h] name\n",
      "ipykernel_launcher.py: error: the following arguments are required: name\n"
     ]
    },
    {
     "ename": "SystemExit",
     "evalue": "2",
     "output_type": "error",
     "traceback": [
      "An exception has occurred, use %tb to see the full traceback.\n",
      "\u001b[0;31mSystemExit\u001b[0m\u001b[0;31m:\u001b[0m 2\n"
     ]
    },
    {
     "name": "stderr",
     "output_type": "stream",
     "text": [
      "/Users/abdullah/anaconda3/lib/python3.11/site-packages/IPython/core/interactiveshell.py:3513: UserWarning:\n",
      "\n",
      "To exit: use 'exit', 'quit', or Ctrl-D.\n",
      "\n"
     ]
    }
   ],
   "source": [
    "import argparse\n",
    "\n",
    "# 1. Create the parser\n",
    "parser = argparse.ArgumentParser(description=\"Greet a user by name\")\n",
    "\n",
    "# 2. Define arguments\n",
    "parser.add_argument(\"name\", help=\"Name of the user\")\n",
    "\n",
    "# 3. Parse the arguments\n",
    "args = parser.parse_args()\n",
    "\n",
    "# 4. Use the argument\n",
    "print(f\"Hello, {args.name}!\")\n"
   ]
  },
  {
   "cell_type": "code",
   "execution_count": null,
   "id": "22f0d5ab",
   "metadata": {},
   "outputs": [
    {
     "name": "stderr",
     "output_type": "stream",
     "text": [
      "usage: ipykernel_launcher.py [-h] num1 num2\n",
      "ipykernel_launcher.py: error: the following arguments are required: num1, num2\n"
     ]
    },
    {
     "ename": "SystemExit",
     "evalue": "2",
     "output_type": "error",
     "traceback": [
      "An exception has occurred, use %tb to see the full traceback.\n",
      "\u001b[0;31mSystemExit\u001b[0m\u001b[0;31m:\u001b[0m 2\n"
     ]
    }
   ],
   "source": [
    "import argparse\n",
    "\n",
    "parser = argparse.ArgumentParser(description=\"Add two numbers\")\n",
    "\n",
    "parser.add_argument(\"num1\", type=int, help=\"First number\")\n",
    "parser.add_argument(\"num2\", type=int, help=\"Second number\")\n",
    "\n",
    "args = parser.parse_args()\n",
    "\n",
    "result = args.num1 + args.num2\n",
    "print(f\"The sum is: {result}\")\n"
   ]
  },
  {
   "cell_type": "code",
   "execution_count": null,
   "id": "94a24b30",
   "metadata": {},
   "outputs": [],
   "source": [
    "\n"
   ]
  },
  {
   "cell_type": "code",
   "execution_count": null,
   "id": "a094cb98",
   "metadata": {},
   "outputs": [],
   "source": []
  },
  {
   "cell_type": "code",
   "execution_count": null,
   "id": "b2e5fd28",
   "metadata": {},
   "outputs": [],
   "source": []
  },
  {
   "cell_type": "code",
   "execution_count": null,
   "id": "215f5f60",
   "metadata": {},
   "outputs": [],
   "source": []
  }
 ],
 "metadata": {
  "kernelspec": {
   "display_name": "base",
   "language": "python",
   "name": "python3"
  },
  "language_info": {
   "codemirror_mode": {
    "name": "ipython",
    "version": 3
   },
   "file_extension": ".py",
   "mimetype": "text/x-python",
   "name": "python",
   "nbconvert_exporter": "python",
   "pygments_lexer": "ipython3",
   "version": "3.11.4"
  }
 },
 "nbformat": 4,
 "nbformat_minor": 5
}
