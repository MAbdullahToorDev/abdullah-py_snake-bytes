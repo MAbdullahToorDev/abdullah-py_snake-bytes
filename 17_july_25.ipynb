{
 "cells": [
  {
   "cell_type": "markdown",
   "id": "b21d6cdd",
   "metadata": {},
   "source": [
    "Type Casting / Type Conversion            \n",
    "Explicit Type Conversion"
   ]
  },
  {
   "cell_type": "code",
   "execution_count": null,
   "id": "dfc9e657",
   "metadata": {},
   "outputs": [
    {
     "name": "stdout",
     "output_type": "stream",
     "text": [
      "<class 'int'>\n",
      "False\n"
     ]
    }
   ],
   "source": [
    "x = \"5\" # Implicit Type Conversion – done automatically by Python\n",
    "y = int(x) # Explicit Type Conversion – done manually using functions like int(), str(), float(), etc.\n",
    "print(type(y))\n",
    "print(isinstance(y,str))\n",
    "# isinstance() function is used in Python to check the data type of a variable."
   ]
  },
  {
   "cell_type": "markdown",
   "id": "dcd4712d",
   "metadata": {},
   "source": [
    "Operators "
   ]
  },
  {
   "cell_type": "code",
   "execution_count": null,
   "id": "6dcaf496",
   "metadata": {},
   "outputs": [],
   "source": [
    "# Assignment Operator\n",
    "a = 20\n",
    "# Arithmetic Operator\n",
    "1 + 2 = 3\n",
    "2 - 3 = 1\n",
    "4 * 2 = 8\n",
    "10 / 5 = 2 # regular division operator in Python, and it always returns a float (decimal) value\n",
    "4 % 3 = 1 # remaning value \n",
    "4 ** 2 = 16\n",
    "4 // 2 = 2 # floor division operator\n",
    "d = 20 / 2\n",
    "e = 5 / 2\n",
    "f = 5 / 2\n",
    "print(d,e,f)"
   ]
  },
  {
   "cell_type": "code",
   "execution_count": 16,
   "id": "071ebfe4",
   "metadata": {},
   "outputs": [
    {
     "name": "stdout",
     "output_type": "stream",
     "text": [
      "10 2 2\n",
      "10.0 2.5 2.5\n",
      "0 1 0\n",
      "16\n"
     ]
    }
   ],
   "source": [
    "a =  20 // 2\n",
    "b = 5 // 2\n",
    "c = 4 // 2 \n",
    "print(a,b,c)# floor division operator\n",
    "d = 20 / 2\n",
    "e = 5 / 2\n",
    "f = 5 / 2\n",
    "print(d,e,f)# regular division operator in Python, and it always returns a float (decimal) value\n",
    "g = 20 % 2\n",
    "h = 5 % 2\n",
    "i = 8 % 2\n",
    "print(g,h,i)# remaning value \n",
    "\n",
    "age = 8\n",
    "age += 8\n",
    "print(age)"
   ]
  },
  {
   "cell_type": "markdown",
   "id": "b784bd76",
   "metadata": {},
   "source": [
    "Comparison Operators in Python\n"
   ]
  },
  {
   "cell_type": "code",
   "execution_count": 17,
   "id": "97766aa2",
   "metadata": {},
   "outputs": [
    {
     "name": "stdout",
     "output_type": "stream",
     "text": [
      "False\n",
      "True\n",
      "True\n",
      "False\n"
     ]
    }
   ],
   "source": [
    "# Comparison operators are used to compare two values. They return either True or False.\n",
    "\n",
    "a = 10\n",
    "b = 20\n",
    "\n",
    "print(a == b)   # False\n",
    "print(a != b)   # True\n",
    "print(a < b)    # True\n",
    "print(a >= b)   # False\n",
    "\n"
   ]
  },
  {
   "cell_type": "markdown",
   "id": "dcd9cc30",
   "metadata": {},
   "source": [
    "Boolean Operators"
   ]
  },
  {
   "cell_type": "code",
   "execution_count": 19,
   "id": "0ce9d0f2",
   "metadata": {},
   "outputs": [
    {
     "data": {
      "text/plain": [
       "False"
      ]
     },
     "execution_count": 19,
     "metadata": {},
     "output_type": "execute_result"
    }
   ],
   "source": [
    "# used to combine comparison statements. They always return either True or False.\n",
    "5 > 3 and 8 > 6    # True\n",
    "5 > 3 or 2 > 6     # True\n",
    "not (5 > 3)        # False\n"
   ]
  },
  {
   "cell_type": "markdown",
   "id": "cda0e436",
   "metadata": {},
   "source": [
    "Bitwise operators"
   ]
  },
  {
   "cell_type": "code",
   "execution_count": null,
   "id": "ce3da09a",
   "metadata": {},
   "outputs": [],
   "source": [
    "# Bitwise operators perform operations on binary digits (bits) of integers\n",
    "a = 5      # Binary: 0101\n",
    "b = 3      # Binary: 0011\n",
    "\n",
    "a & b\t= 1\t# (Bitwise AND) Only common 1s \n",
    "`a | b`\t= 7 # Bitwise OR\n",
    "a ^ b\t= 6\t# Bitwise XOR (exclusive OR) Different bits only\n",
    "~a\t-6\t    # Bitwise NOT (inverts bits) Inverts & 2's comp\n",
    "a << 1\t= 10\t# Shift left (×2)\n",
    "a >> 1\t= 2\t# Shift right (÷2)\n",
    "\n"
   ]
  },
  {
   "cell_type": "markdown",
   "id": "ce88b577",
   "metadata": {},
   "source": [
    "Identity Operators   IS"
   ]
  },
  {
   "cell_type": "code",
   "execution_count": 20,
   "id": "8bc94e8a",
   "metadata": {},
   "outputs": [
    {
     "name": "stdout",
     "output_type": "stream",
     "text": [
      "True\n",
      "False\n"
     ]
    }
   ],
   "source": [
    "# These are used to compare the memory locations of two objects\n",
    "a = [1, 2, 3]\n",
    "b = a\n",
    "c = [1, 2, 3]\n",
    "\n",
    "print(a is b)       # True → b refers to the same object as a\n",
    "print(a is c)       # False → a and c have the same value but are different objects\n",
    "\n"
   ]
  },
  {
   "cell_type": "markdown",
   "id": "42ce06c7",
   "metadata": {},
   "source": [
    "is not"
   ]
  },
  {
   "cell_type": "code",
   "execution_count": 21,
   "id": "490eee03",
   "metadata": {},
   "outputs": [
    {
     "name": "stdout",
     "output_type": "stream",
     "text": [
      "True\n",
      "True\n"
     ]
    }
   ],
   "source": [
    "a = [1, 2, 3]\n",
    "b = a\n",
    "c = [1, 2, 3]\n",
    "\n",
    "print(a is b)       # True → b refers to the same object as a\n",
    "print(a is not c)   # True\n"
   ]
  },
  {
   "cell_type": "markdown",
   "id": "7f1cf796",
   "metadata": {},
   "source": [
    "Membership Operators   IN "
   ]
  },
  {
   "cell_type": "code",
   "execution_count": 22,
   "id": "1a379076",
   "metadata": {},
   "outputs": [
    {
     "name": "stdout",
     "output_type": "stream",
     "text": [
      "True\n",
      "False\n"
     ]
    }
   ],
   "source": [
    "# in Returns True if the value exists.\n",
    "colors = [\"red\", \"green\", \"blue\"]\n",
    "\n",
    "print(\"green\" in colors)      # True\n",
    "print(\"yellow\" in colors)     # False\n",
    "\n"
   ]
  },
  {
   "cell_type": "code",
   "execution_count": 23,
   "id": "563c55bf",
   "metadata": {},
   "outputs": [
    {
     "name": "stdout",
     "output_type": "stream",
     "text": [
      "False\n",
      "True\n"
     ]
    }
   ],
   "source": [
    "# Returns True if the value does not exist.\n",
    "colors = [\"red\", \"green\", \"blue\"]\n",
    "\n",
    "\n",
    "print(\"yellow\" in colors)     # False\n",
    "print(\"yellow\" not in colors) # True\n"
   ]
  },
  {
   "cell_type": "markdown",
   "id": "a8bc7458",
   "metadata": {},
   "source": [
    "Ternary Operator "
   ]
  },
  {
   "cell_type": "code",
   "execution_count": 25,
   "id": "c9cdbea6",
   "metadata": {},
   "outputs": [
    {
     "name": "stdout",
     "output_type": "stream",
     "text": [
      "Adult\n"
     ]
    }
   ],
   "source": [
    "# The ternary operator is a short way to write an if-else statement in a single line.\n",
    "age = 20\n",
    "message = \"Adult\" if age >= 18 else \"Minor\"\n",
    "print(message)  # Output: Adult\n"
   ]
  },
  {
   "cell_type": "markdown",
   "id": "bd9c003b",
   "metadata": {},
   "source": [
    "String   /  String Methods"
   ]
  },
  {
   "cell_type": "code",
   "execution_count": null,
   "id": "4218b62a",
   "metadata": {},
   "outputs": [
    {
     "name": "stdout",
     "output_type": "stream",
     "text": [
      "Muhammad Abdullah\n",
      "Muhammad Abdullah25\n",
      " Ternary operators make code shorter and cleaner when you're assigning a value based on a condition.\n",
      "\n",
      "Let me know if you'd like some small practice exercises or examples based on your own project 😊\n",
      "\n",
      "MUHAMMAD ABDULLAH\n",
      "muhammad abdullah\n",
      "Muhammad Abdullah\n",
      "False\n",
      "False\n",
      "False\n",
      "True\n",
      "['Muhammad', 'Abdullah']\n",
      "['user', 'example.com']\n",
      "Muhammad Abdullah\n",
      "Hello, World!\n",
      "Welcome!\n",
      "True\n",
      "True\n",
      "False\n",
      "Python is fun\n",
      "Python...is...fun\n",
      "9\n",
      "I love Python\n",
      " i love malano\n",
      "17\n",
      "4\n",
      "2\n",
      "True\n"
     ]
    }
   ],
   "source": [
    "Full_name = \"Muhammad\" + \" Abdullah\"\n",
    "print(Full_name)\n",
    "age = str(25)\n",
    "print(Full_name + age)\n",
    "\n",
    "# Multi Line String \n",
    "print(''' Ternary operators make code shorter and cleaner when you're assigning a value based on a condition.\n",
    "\n",
    "Let me know if you'd like some small practice exercises or examples based on your own project 😊\n",
    "''')\n",
    "print(Full_name.upper())\n",
    "\n",
    "print(Full_name.lower())\n",
    "\n",
    "print(Full_name.title())\n",
    "\n",
    "print(Full_name.islower())\n",
    "\n",
    "# The .isalpha() method checks if all characters in a string are alphabets (A-Z or a-z) — and returns:\n",
    "# True if all characters are letters , False if there is any space, number, or special character\n",
    "print(Full_name.isalpha()) \n",
    "\n",
    "#The .isalnum() method checks if a string contains only letters and numbers (no spaces or special characters).\n",
    "# True → if all characters are letters or digits , False → if the string has spaces, symbols, or punctuation\n",
    "print(Full_name.isalnum())\n",
    "\n",
    "# The .startswith() method checks if a string begins with a specific prefix (word, letter, or phrase).\n",
    "print(Full_name.startswith('M'))\n",
    "\n",
    "# Used to split a string into a list based on a separator (default is space)\n",
    "print(Full_name.split())\n",
    "email = \"user@example.com\"\n",
    "print(email.split(\"@\"))  \n",
    "\n",
    "# Used to remove leading and trailing whitespace (or any other characters)\n",
    "print(Full_name.strip(''))\n",
    "text = \"  Hello, World!   \"\n",
    "print(text.strip())  \n",
    "# 👉 'Hello, World!'\n",
    "\n",
    "dirty = \"---Welcome!---\"\n",
    "print(dirty.strip(\"-\")) \n",
    "\n",
    "# Checks if a string ends with a specific suffix\n",
    "print(email.endswith(\".com\"))\n",
    "filename = \"report.pdf\"\n",
    "print(filename.endswith(\".pdf\"))  \n",
    "print(filename.endswith(\".doc\"))\n",
    "\n",
    "# Joins elements of a list (or any iterable) into a single string, using a separator.\n",
    "words = [\"Python\", \"is\", \"fun\"]\n",
    "print((\" \").join(words))\n",
    "print((\"...\").join(words))\n",
    "\n",
    "# Returns the index (position) of the first occurrence of a substring. Returns -1 if not found.\n",
    "#string.find(substring)\n",
    "text = \"Pakistan Zinda Bad\"\n",
    "print(text.find(\"Zinda\"))\n",
    "\n",
    "\n",
    "# Replaces a part of the string with something else.\n",
    "#string.replace(old, new)\n",
    "text_2 = \"I love Java\"\n",
    "print(text_2.replace(\"Java\", \"Python\"))  \n",
    "propose = \" i love Mahal\"\n",
    "print(propose.replace(\"Mahal\", \"malano\"))\n",
    "\n",
    "# used to get the number of items in an object — like characters in a string, elements in a list, or keys in a dictionary.\n",
    "print(len(Full_name))   \n",
    "items = [10, 20, 30, 40]\n",
    "print(len(items))\n",
    "data = {\"name\": \"Ali\", \"age\": 25}\n",
    "print(len(data))\n",
    "\n",
    "\n"
   ]
  },
  {
   "cell_type": "code",
   "execution_count": 39,
   "id": "7b648e55",
   "metadata": {},
   "outputs": [
    {
     "name": "stdout",
     "output_type": "stream",
     "text": [
      "True\n",
      "Muhammad\"Abdullah\n",
      "Muhammad\n",
      "Abdullah\n"
     ]
    }
   ],
   "source": [
    "print(\"ul\" in Full_name)\n",
    "\n",
    "print(\"Muhammad\\\"Abdullah\")\n",
    "print(\"Muhammad\\nAbdullah\")"
   ]
  },
  {
   "cell_type": "code",
   "execution_count": null,
   "id": "5f38af67",
   "metadata": {},
   "outputs": [],
   "source": []
  }
 ],
 "metadata": {
  "kernelspec": {
   "display_name": "base",
   "language": "python",
   "name": "python3"
  },
  "language_info": {
   "codemirror_mode": {
    "name": "ipython",
    "version": 3
   },
   "file_extension": ".py",
   "mimetype": "text/x-python",
   "name": "python",
   "nbconvert_exporter": "python",
   "pygments_lexer": "ipython3",
   "version": "3.11.4"
  }
 },
 "nbformat": 4,
 "nbformat_minor": 5
}
