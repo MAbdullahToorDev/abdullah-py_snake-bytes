{
 "cells": [
  {
   "cell_type": "markdown",
   "id": "2922dffa",
   "metadata": {},
   "source": [
    "# Bank System in Core Python using JSON file storage."
   ]
  },
  {
   "cell_type": "code",
   "execution_count": 56,
   "id": "b6fb794c",
   "metadata": {},
   "outputs": [],
   "source": [
    "import json\n",
    "import os"
   ]
  },
  {
   "cell_type": "markdown",
   "id": "5a626c2a",
   "metadata": {},
   "source": [
    "Read and write file :"
   ]
  },
  {
   "cell_type": "code",
   "execution_count": 57,
   "id": "cd4141e8",
   "metadata": {},
   "outputs": [],
   "source": [
    "File_Name = \"accounts.json\"\n",
    "\n",
    "def load_accounts():\n",
    "    if os.path.exists(File_Name):\n",
    "        with open(File_Name, 'r') as file:\n",
    "            content = file.read().strip()\n",
    "            if content:\n",
    "                return json.load(file)\n",
    "    return {}   \n",
    "\n",
    "def save_accounts(accounts):\n",
    "    with open(File_Name, 'w') as file:\n",
    "        json.dump(accounts , file)\n",
    "        \n"
   ]
  },
  {
   "cell_type": "markdown",
   "id": "9b9511c8",
   "metadata": {},
   "source": [
    "Create_account:"
   ]
  },
  {
   "cell_type": "code",
   "execution_count": 58,
   "id": "56ca45fd",
   "metadata": {},
   "outputs": [],
   "source": [
    "def create_accounts(accounts):\n",
    "    username = input(\"Enter your Name :\")\n",
    "    if username in accounts:\n",
    "        print(\"Account already exists. \")\n",
    "    else:\n",
    "        accounts[username] = 0\n",
    "        print(\"Account created Successfully. \")\n",
    "            "
   ]
  },
  {
   "cell_type": "markdown",
   "id": "00929839",
   "metadata": {},
   "source": [
    "Deposit:"
   ]
  },
  {
   "cell_type": "code",
   "execution_count": 59,
   "id": "d0b36ba3",
   "metadata": {},
   "outputs": [],
   "source": [
    "def deposit(accounts):\n",
    "    username = input(\"Enter your Name: \")\n",
    "    if username in accounts:\n",
    "        amount = float(input(\"Enter deposit amount: \"))\n",
    "        accounts[username] += amount\n",
    "        print(f\"Deposited Rs.{amount} successfully.\")\n",
    "    else:\n",
    "        print(\"Account not found.\")\n",
    "    \n",
    "            "
   ]
  },
  {
   "cell_type": "markdown",
   "id": "b5770809",
   "metadata": {},
   "source": [
    "Withdraw:"
   ]
  },
  {
   "cell_type": "code",
   "execution_count": 60,
   "id": "7021c1df",
   "metadata": {},
   "outputs": [],
   "source": [
    "def withdraw(accounts):\n",
    "    username = input(\"Enter user Name:\")\n",
    "    if username in accounts:\n",
    "        amount =float(input(\"Enter withdrawal amount: \"))\n",
    "        if accounts[username] >= amount:\n",
    "            accounts[username] -= amount\n",
    "            print(f\"withdraw Rs.{amount} successfully\")\n",
    "        else:\n",
    "            print(\"Insufficient Balance.\")\n",
    "    else:\n",
    "        print(\"Account not Found.\")\n",
    "                    "
   ]
  },
  {
   "cell_type": "markdown",
   "id": "49f82430",
   "metadata": {},
   "source": [
    "Check Balance:"
   ]
  },
  {
   "cell_type": "code",
   "execution_count": 61,
   "id": "563574b4",
   "metadata": {},
   "outputs": [],
   "source": [
    "def check_balance(accounts):\n",
    "    username = input(\"Enter youe Name: \")\n",
    "    if username in accounts:\n",
    "        print(f\"Your balance is: Rs.{accounts[username]}\")\n",
    "    else:\n",
    "        print(\"Account not found. \")\n",
    "            \n"
   ]
  },
  {
   "cell_type": "code",
   "execution_count": 62,
   "id": "0772b360",
   "metadata": {},
   "outputs": [
    {
     "name": "stdout",
     "output_type": "stream",
     "text": [
      "n------------Bank System--------------\n",
      "1. Create Account\n",
      "2. Deposit\n",
      "3. Withdraw\n",
      "4. Check Balance\n",
      "5. Exit\n",
      "Account created Successfully. \n",
      "n------------Bank System--------------\n",
      "1. Create Account\n",
      "2. Deposit\n",
      "3. Withdraw\n",
      "4. Check Balance\n",
      "5. Exit\n",
      "Deposited Rs.2000.0 successfully.\n",
      "n------------Bank System--------------\n",
      "1. Create Account\n",
      "2. Deposit\n",
      "3. Withdraw\n",
      "4. Check Balance\n",
      "5. Exit\n",
      "Existing .......Goodbye!\n"
     ]
    }
   ],
   "source": [
    "def main():\n",
    "    accounts = load_accounts()\n",
    "    while True:\n",
    "        print(\"n------------Bank System--------------\")\n",
    "        print(\"1. Create Account\")\n",
    "        print(\"2. Deposit\")\n",
    "        print(\"3. Withdraw\")\n",
    "        print(\"4. Check Balance\")\n",
    "        print(\"5. Exit\")\n",
    "\n",
    "        choice = input(\"Select Option: \")\n",
    "\n",
    "        if choice == '1':\n",
    "            create_accounts(accounts)\n",
    "        elif choice == '2':\n",
    "            deposit(accounts)    \n",
    "        elif choice == '3':\n",
    "            withdraw(accounts)\n",
    "        elif choice == '4':\n",
    "            check_balance(accounts)\n",
    "        elif choice == '5':\n",
    "            save_accounts(accounts)\n",
    "            print(\"Existing .......Goodbye!\")\n",
    "            break\n",
    "        else:\n",
    "            print(\"Invalid Option, Try Again......\")\n",
    "\n",
    "main()                \n",
    "\n",
    "\n"
   ]
  },
  {
   "cell_type": "markdown",
   "id": "771d6171",
   "metadata": {},
   "source": []
  },
  {
   "cell_type": "code",
   "execution_count": null,
   "id": "f1f59831",
   "metadata": {},
   "outputs": [],
   "source": []
  },
  {
   "cell_type": "code",
   "execution_count": null,
   "id": "de9dbdd9",
   "metadata": {},
   "outputs": [],
   "source": []
  }
 ],
 "metadata": {
  "kernelspec": {
   "display_name": "base",
   "language": "python",
   "name": "python3"
  },
  "language_info": {
   "codemirror_mode": {
    "name": "ipython",
    "version": 3
   },
   "file_extension": ".py",
   "mimetype": "text/x-python",
   "name": "python",
   "nbconvert_exporter": "python",
   "pygments_lexer": "ipython3",
   "version": "3.11.4"
  }
 },
 "nbformat": 4,
 "nbformat_minor": 5
}
