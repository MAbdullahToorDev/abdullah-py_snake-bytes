{
 "cells": [
  {
   "cell_type": "markdown",
   "id": "ed3352cb",
   "metadata": {},
   "source": [
    "Lambda Function"
   ]
  },
  {
   "cell_type": "markdown",
   "id": "97d88030",
   "metadata": {},
   "source": [
    " A lambda function is a small, anonymous function (without a name) used for short, simple tasks.\n",
    "\n"
   ]
  },
  {
   "cell_type": "code",
   "execution_count": null,
   "id": "05b850ba",
   "metadata": {},
   "outputs": [
    {
     "name": "stdout",
     "output_type": "stream",
     "text": [
      "30\n"
     ]
    },
    {
     "data": {
      "text/plain": [
       "100"
      ]
     },
     "execution_count": 5,
     "metadata": {},
     "output_type": "execute_result"
    }
   ],
   "source": [
    "#lambda arguments: expression\n",
    "\n",
    "add = lambda x,y :  x+y\n",
    "print(add(10,20))\n",
    "\n",
    "\n",
    "def add(x,y):\n",
    "    return x+y\n",
    "add(45,55)"
   ]
  },
  {
   "cell_type": "markdown",
   "id": "2fbc1fce",
   "metadata": {},
   "source": [
    "Map() :    Transform Each Element\n"
   ]
  },
  {
   "cell_type": "code",
   "execution_count": 8,
   "id": "7276b94e",
   "metadata": {},
   "outputs": [
    {
     "name": "stdout",
     "output_type": "stream",
     "text": [
      "[1, 4, 9, 16, 25, 36, 49, 64, 81, 100]\n",
      "[32.0, 50.0, 68.0, 86.0, 104.0, 122.0, 140.0, 158.0, 176.0, 194.0, 212.0]\n"
     ]
    }
   ],
   "source": [
    "# map(function ,iterable)\n",
    "# Applies a function to every item in an iterable.\n",
    "\n",
    "num_list = [1,2,3,4,5,6,7,8,9,10]\n",
    "squared = list(map(lambda x :x**2,num_list))\n",
    "print(squared)\n",
    "\n",
    "# Real Use Case Example :\n",
    "celsius = [0,10,20,30,40,50,60,70,80,90,100]\n",
    "fahrenheit = list(map(lambda x : (x * 9/5)+32,celsius))\n",
    "print(fahrenheit)\n"
   ]
  },
  {
   "cell_type": "markdown",
   "id": "db49cc76",
   "metadata": {},
   "source": [
    "Filter() : Filter Elements by Condition"
   ]
  },
  {
   "cell_type": "code",
   "execution_count": 24,
   "id": "e3ee8015",
   "metadata": {},
   "outputs": [
    {
     "name": "stdout",
     "output_type": "stream",
     "text": [
      "[2, 4, 6, 8, 10]\n",
      "[('Muhammad', 55), ('Ali', 50), ('Zare', 85)]\n"
     ]
    }
   ],
   "source": [
    "# filter (function , iterable)\n",
    "# Returns only elements that meet a condition (True) from an iterable.\n",
    "num_list2 = [1,2,3,4,5,6,7,8,9,10]\n",
    "even = list (filter(lambda x : x%2 == 0 ,num_list2))\n",
    "print(even)\n",
    "\n",
    "# Real use case Example :\n",
    "\n",
    "students = [(\"Muhammad\",55),(\"Ali\",50),(\"Zare\",85),(\"Ahmed\",30)]\n",
    "passed = list(filter(lambda student : student[1] >= 50,students))\n",
    "print(passed)"
   ]
  },
  {
   "cell_type": "markdown",
   "id": "e7e9acf8",
   "metadata": {},
   "source": [
    "Reduce():    Reduce to a Single Value"
   ]
  },
  {
   "cell_type": "code",
   "execution_count": 26,
   "id": "00010611",
   "metadata": {},
   "outputs": [
    {
     "name": "stdout",
     "output_type": "stream",
     "text": [
      "362880\n",
      "Love-\n"
     ]
    }
   ],
   "source": [
    "# from functools import reduce \n",
    "# reduce(function, iterable)\n",
    "#Applies a function cumulatively to items in an iterable (must import from functools).\n",
    "\n",
    "from functools import reduce\n",
    "num_list3 = [1,2,3,4,5,6,7,8,9]\n",
    "product = reduce(lambda x,y : x*y,num_list3)\n",
    "print(product)\n",
    "\n",
    "# real use case Example:\n",
    "words = [ \"I-\",\"Love-\",\"You\"]\n",
    "propose = reduce(lambda x,y: x if len(x) > len(y) else y, words)\n",
    "print(propose)"
   ]
  },
  {
   "cell_type": "markdown",
   "id": "ac0859c1",
   "metadata": {},
   "source": [
    "Recursion : (a function calls itself) "
   ]
  },
  {
   "cell_type": "markdown",
   "id": "89ca684c",
   "metadata": {},
   "source": [
    "       \n",
    " a function calls itself to solve a smaller part of a problem. It's used to break problems into simpler sub-problems.\n",
    "\n",
    "\n"
   ]
  },
  {
   "cell_type": "code",
   "execution_count": 27,
   "id": "facebcdf",
   "metadata": {},
   "outputs": [
    {
     "name": "stdout",
     "output_type": "stream",
     "text": [
      "120\n"
     ]
    }
   ],
   "source": [
    "'''  def function_name(parameters):\n",
    "    if base_case_condition:\n",
    "        return result\n",
    "    else:\n",
    "        return function_name(smaller_problem)\n",
    "'''\n",
    "# Base Case: Stops the recursion.\n",
    "#Recursive Case: The function calls itself with a smaller input.\n",
    "\n",
    "# Factorial Example \n",
    "def factorial(n):\n",
    "    if n == 0:\n",
    "        return 1\n",
    "    else:\n",
    "        return n * factorial(n -1)\n",
    "    \n",
    "print(factorial(5))    \n"
   ]
  },
  {
   "cell_type": "markdown",
   "id": "359432cb",
   "metadata": {},
   "source": [
    "Decorators :"
   ]
  },
  {
   "cell_type": "markdown",
   "id": "45af8924",
   "metadata": {},
   "source": [
    " a function that modifies the behavior of another function without changing its code. It wraps a function and adds extra functionality"
   ]
  },
  {
   "cell_type": "code",
   "execution_count": null,
   "id": "4c563825",
   "metadata": {},
   "outputs": [
    {
     "name": "stdout",
     "output_type": "stream",
     "text": [
      "Hello!\n",
      "I am Muhammad Abdullah\n",
      "Nice to meet you!\n"
     ]
    }
   ],
   "source": [
    "'''def decorator_function(original_function):\n",
    "    def wrapper():\n",
    "        print(\"Before the function run\")\n",
    "        original_function()\n",
    "        print(\"after the function run\")\n",
    "    return wrapper ''' \n",
    "\n",
    "def greet_decorator(func):\n",
    "    def wrapper(*argu,**key):\n",
    "        print(\"Hello!\")\n",
    "        func(*argu,**key)\n",
    "        print(\"Nice to meet you!\")\n",
    "    return wrapper\n",
    "\n",
    "@greet_decorator\n",
    "\n",
    "def say_name(name):\n",
    "    print(\"I am \" + name)   \n",
    "    \n",
    "say_name(\"Muhammad Abdullah\")     \n",
    "\n",
    "\n"
   ]
  },
  {
   "cell_type": "markdown",
   "id": "2299d97b",
   "metadata": {},
   "source": [
    "Decorator with Parameters"
   ]
  },
  {
   "cell_type": "code",
   "execution_count": 6,
   "id": "50694e0d",
   "metadata": {},
   "outputs": [
    {
     "name": "stdout",
     "output_type": "stream",
     "text": [
      "18\n"
     ]
    }
   ],
   "source": [
    "def double_result(func):\n",
    "    def wrapper(x):\n",
    "        result = func(x)\n",
    "        return result * 2\n",
    "    return wrapper\n",
    "\n",
    "@double_result\n",
    "def square(n):\n",
    "    return n * n\n",
    "\n",
    "print(square(3))  # Output: 18 (because 3*3 = 9, and then doubled)\n"
   ]
  },
  {
   "cell_type": "markdown",
   "id": "0ebfa955",
   "metadata": {},
   "source": [
    "Logging Decorator"
   ]
  },
  {
   "cell_type": "code",
   "execution_count": 7,
   "id": "d8f838ae",
   "metadata": {},
   "outputs": [
    {
     "name": "stdout",
     "output_type": "stream",
     "text": [
      "Calling add with (3, 5)\n",
      "8\n"
     ]
    }
   ],
   "source": [
    "def log_function(func):\n",
    "    def wrapper(*args, **kwargs):\n",
    "        print(f\"Calling {func.__name__} with {args}\")\n",
    "        return func(*args, **kwargs)\n",
    "    return wrapper\n",
    "\n",
    "@log_function\n",
    "def add(a, b):\n",
    "    return a + b\n",
    "\n",
    "print(add(3, 5))"
   ]
  },
  {
   "cell_type": "markdown",
   "id": "18bd766c",
   "metadata": {},
   "source": [
    "Docstrings"
   ]
  },
  {
   "cell_type": "markdown",
   "id": "b69ab728",
   "metadata": {},
   "source": [
    "Docstrings are special strings used to document a function, class, or module.       \n",
    "They describe what your code does — helping both you and others understand your code later.\n",
    "\n"
   ]
  },
  {
   "cell_type": "code",
   "execution_count": null,
   "id": "3f62240f",
   "metadata": {},
   "outputs": [],
   "source": [
    "class Dog:\n",
    "    \"\"\"A simple Dog class.\"\"\"\n",
    "\n",
    "    def __init__(self, name):\n",
    "        \"\"\"Initialize with name.\"\"\"\n",
    "        self.name = name\n",
    "\n",
    "    def bark(self):\n",
    "        \"\"\"Print a barking sound.\"\"\"\n",
    "        print(\"Woof!\")\n"
   ]
  },
  {
   "cell_type": "markdown",
   "id": "f569a151",
   "metadata": {},
   "source": [
    "Annotations"
   ]
  },
  {
   "cell_type": "markdown",
   "id": "76663c6d",
   "metadata": {},
   "source": [
    "help you document the types of variables, function parameters, and return values.     \n",
    "They do not affect how the code runs but are useful for:"
   ]
  },
  {
   "cell_type": "code",
   "execution_count": 16,
   "id": "eef0c217",
   "metadata": {},
   "outputs": [
    {
     "name": "stdout",
     "output_type": "stream",
     "text": [
      "150 3.14\n"
     ]
    },
    {
     "data": {
      "text/plain": [
       "'Hello Abdullah'"
      ]
     },
     "execution_count": 16,
     "metadata": {},
     "output_type": "execute_result"
    }
   ],
   "source": [
    "num :int = 150\n",
    "py : float = 3.14\n",
    "\n",
    "print(num , py)\n",
    "\n",
    "def greet(name ) -> str:\n",
    "    return \"Hello \" + name\n",
    "greet(\"Abdullah\")"
   ]
  },
  {
   "cell_type": "markdown",
   "id": "10025336",
   "metadata": {},
   "source": [
    "# Exception :"
   ]
  },
  {
   "cell_type": "markdown",
   "id": "83c4b945",
   "metadata": {},
   "source": [
    "An exception is an error that occurs during the execution of a program."
   ]
  },
  {
   "cell_type": "code",
   "execution_count": 26,
   "id": "5e981d12",
   "metadata": {},
   "outputs": [
    {
     "name": "stdout",
     "output_type": "stream",
     "text": [
      "You entered unexpexted value 123\n",
      "The code is End -->\n"
     ]
    }
   ],
   "source": [
    "user_input = input(\"Enter a string\")\n",
    "\n",
    "try:\n",
    "    converted_input = int(user_input)\n",
    "    \n",
    "except ValueError:\n",
    "    print(\"You entered a String :\",user_input)\n",
    "else:\n",
    "    print(\"You entered unexpexted value\",converted_input)    \n",
    "finally:\n",
    "    print(\"The code is End -->\")    \n"
   ]
  },
  {
   "cell_type": "code",
   "execution_count": null,
   "id": "f9b7c369",
   "metadata": {},
   "outputs": [],
   "source": [
    "filename = 'myfile.txt'\n",
    "\n",
    "with open(filename, 'r') as file:\n",
    "    content = file.read()\n",
    "    print(\"📄 File content:\")\n",
    "    print(content)"
   ]
  },
  {
   "cell_type": "markdown",
   "id": "07829459",
   "metadata": {},
   "source": [
    "# Third party Packages"
   ]
  },
  {
   "cell_type": "markdown",
   "id": "1a258870",
   "metadata": {},
   "source": [
    "libraries or modules created by other developers"
   ]
  },
  {
   "cell_type": "code",
   "execution_count": null,
   "id": "baf8c467",
   "metadata": {},
   "outputs": [],
   "source": []
  },
  {
   "cell_type": "markdown",
   "id": "215d3195",
   "metadata": {},
   "source": [
    "# List Compression"
   ]
  },
  {
   "cell_type": "code",
   "execution_count": 30,
   "id": "a33782da",
   "metadata": {},
   "outputs": [
    {
     "name": "stdout",
     "output_type": "stream",
     "text": [
      "[1, 2, 3, 4, 5, 6, 7, 8, 9]\n",
      "[1, 4, 9, 16, 25, 36, 49, 64, 81]\n"
     ]
    }
   ],
   "source": [
    "num_list4 = [1,2,3,4,5,6,7,8,9]\n",
    "print(num_list4)\n",
    "num_power_2 = [n**2 for n in num_list4]\n",
    "print(num_power_2)"
   ]
  },
  {
   "cell_type": "markdown",
   "id": "cf60d4d2",
   "metadata": {},
   "source": [
    "# Polymorphism:"
   ]
  },
  {
   "cell_type": "markdown",
   "id": "310dc5e1",
   "metadata": {},
   "source": [
    "\"Many forms\" — the same method name behaves differently depending on the object that uses it."
   ]
  },
  {
   "cell_type": "code",
   "execution_count": 32,
   "id": "3bf54b99",
   "metadata": {},
   "outputs": [
    {
     "name": "stdout",
     "output_type": "stream",
     "text": [
      "Dog says Woof!\n",
      "Cat says Meow!\n"
     ]
    }
   ],
   "source": [
    "class Animal:\n",
    "    def speak(self):\n",
    "        print(\"Animal Speak\")\n",
    "\n",
    "class Cat(Animal):\n",
    "    def speak(self):\n",
    "        print(\"Cat says Meow!\")\n",
    "\n",
    "class Dog(Animal):\n",
    "    def speak(self):\n",
    "        print(\"Dog says Woof!\")\n",
    "\n",
    "def make_it_speak (animal):\n",
    "    animal.speak()\n",
    "\n",
    "dog = Dog()\n",
    "cat = Cat()\n",
    "\n",
    "make_it_speak(dog)\n",
    "make_it_speak(cat)\n",
    "\n"
   ]
  },
  {
   "cell_type": "code",
   "execution_count": 34,
   "id": "81eef2f3",
   "metadata": {},
   "outputs": [
    {
     "name": "stdout",
     "output_type": "stream",
     "text": [
      "Dog says Woof!\n",
      "Cat says Meow!\n"
     ]
    }
   ],
   "source": [
    "class Cat:\n",
    "    def speak(self):\n",
    "        print(\"Cat says Meow!\")\n",
    "\n",
    "class Dog:\n",
    "    def speak(self):\n",
    "        print(\"Dog says Woof!\")\n",
    "\n",
    "\n",
    "\n",
    "dog = Dog()\n",
    "cat = Cat()\n",
    "\n",
    "dog.speak()\n",
    "cat.speak()"
   ]
  },
  {
   "cell_type": "markdown",
   "id": "077dd070",
   "metadata": {},
   "source": [
    "# Operator Overloding"
   ]
  },
  {
   "cell_type": "code",
   "execution_count": 38,
   "id": "3078d36d",
   "metadata": {},
   "outputs": [
    {
     "name": "stdout",
     "output_type": "stream",
     "text": [
      "False\n"
     ]
    }
   ],
   "source": [
    "class Dogs:\n",
    "    def __init__(self,name,age):\n",
    "        self.name = name\n",
    "        self.age = age\n",
    "\n",
    "    def __gt__(self,other):\n",
    "        return True if self.age > other.age else False    \n",
    "\n",
    "roger = Dogs(\"Roger\",10)\n",
    "syd = Dogs(\"Syd\",8)\n",
    "\n",
    "print(roger < syd)"
   ]
  },
  {
   "cell_type": "markdown",
   "id": "e6fe9b09",
   "metadata": {},
   "source": [
    "# Blackjack - Beginning"
   ]
  },
  {
   "cell_type": "code",
   "execution_count": 39,
   "id": "7ede92d9",
   "metadata": {},
   "outputs": [],
   "source": [
    "import random\n",
    "\n",
    "# Define card values\n",
    "cards = [2, 3, 4, 5, 6, 7, 8, 9, 10, 10, 10, 10, 11]  # 10s for J, Q, K, and 11 for Ace\n",
    "\n",
    "def deal_card():\n",
    "    \"\"\"Returns a random card from the deck\"\"\"\n",
    "    return random.choice(cards)\n",
    "\n",
    "def calculate_score(hand):\n",
    "    \"\"\"Calculates the score of a hand\"\"\"\n",
    "    if sum(hand) == 21 and len(hand) == 2:\n",
    "        return 0  # Blackjack!\n",
    "    if 11 in hand and sum(hand) > 21:\n",
    "        hand.remove(11)\n",
    "        hand.append(1)\n",
    "    return sum(hand)\n",
    "\n",
    "def compare(player_score, dealer_score):\n",
    "    \"\"\"Compares scores to decide winner\"\"\"\n",
    "    if player_score == dealer_score:\n",
    "        return \"Draw!\"\n",
    "    elif dealer_score == 0:\n",
    "        return \"Dealer has Blackjack. You lose!\"\n",
    "    elif player_score == 0:\n",
    "        return \"You have Blackjack. You win!\"\n",
    "    elif player_score > 21:\n",
    "        return \"You went over 21. You lose!\"\n",
    "    elif dealer_score > 21:\n",
    "        return \"Dealer went over 21. You win!\"\n",
    "    elif player_score > dealer_score:\n",
    "        return \"You win!\"\n",
    "    else:\n",
    "        return \"You lose!\"\n"
   ]
  },
  {
   "cell_type": "code",
   "execution_count": 40,
   "id": "604ab766",
   "metadata": {},
   "outputs": [],
   "source": [
    "def play_game():\n",
    "    print(\"🃏 Welcome to Blackjack!\")\n",
    "\n",
    "    player_cards = [deal_card(), deal_card()]\n",
    "    dealer_cards = [deal_card(), deal_card()]\n",
    "\n",
    "    game_over = False\n",
    "\n",
    "    while not game_over:\n",
    "        player_score = calculate_score(player_cards)\n",
    "        dealer_score = calculate_score(dealer_cards)\n",
    "\n",
    "        print(f\"Your cards: {player_cards}, current score: {player_score}\")\n",
    "        print(f\"Dealer's first card: {dealer_cards[0]}\")\n",
    "\n",
    "        if player_score == 0 or dealer_score == 0 or player_score > 21:\n",
    "            game_over = True\n",
    "        else:\n",
    "            should_continue = input(\"Type 'y' to get another card, type 'n' to pass: \")\n",
    "            if should_continue == 'y':\n",
    "                player_cards.append(deal_card())\n",
    "            else:\n",
    "                game_over = True\n",
    "\n",
    "    # Dealer logic\n",
    "    while dealer_score != 0 and dealer_score < 17:\n",
    "        dealer_cards.append(deal_card())\n",
    "        dealer_score = calculate_score(dealer_cards)\n",
    "\n",
    "    print(f\"\\nYour final hand: {player_cards}, final score: {player_score}\")\n",
    "    print(f\"Dealer's final hand: {dealer_cards}, final score: {dealer_score}\")\n",
    "    print(compare(player_score, dealer_score))\n",
    "\n"
   ]
  },
  {
   "cell_type": "code",
   "execution_count": 43,
   "id": "3b1d1466",
   "metadata": {},
   "outputs": [
    {
     "name": "stdout",
     "output_type": "stream",
     "text": [
      "🃏 Welcome to Blackjack!\n",
      "Your cards: [8, 2], current score: 10\n",
      "Dealer's first card: 5\n",
      "Your cards: [8, 2, 8], current score: 18\n",
      "Dealer's first card: 5\n",
      "Your cards: [8, 2, 8, 10], current score: 28\n",
      "Dealer's first card: 5\n",
      "\n",
      "Your final hand: [8, 2, 8, 10], final score: 28\n",
      "Dealer's final hand: [5, 3, 2, 4, 1, 3], final score: 18\n",
      "You went over 21. You lose!\n"
     ]
    }
   ],
   "source": [
    "while input(\"\\nDo you want to play a game of Blackjack? Type 'y' or 'n': \") == 'y':\n",
    "    play_game()\n"
   ]
  },
  {
   "cell_type": "code",
   "execution_count": null,
   "id": "1e9422bb",
   "metadata": {},
   "outputs": [],
   "source": []
  },
  {
   "cell_type": "code",
   "execution_count": null,
   "id": "bbff36f2",
   "metadata": {},
   "outputs": [],
   "source": []
  }
 ],
 "metadata": {
  "kernelspec": {
   "display_name": "base",
   "language": "python",
   "name": "python3"
  },
  "language_info": {
   "codemirror_mode": {
    "name": "ipython",
    "version": 3
   },
   "file_extension": ".py",
   "mimetype": "text/x-python",
   "name": "python",
   "nbconvert_exporter": "python",
   "pygments_lexer": "ipython3",
   "version": "3.11.4"
  }
 },
 "nbformat": 4,
 "nbformat_minor": 5
}
