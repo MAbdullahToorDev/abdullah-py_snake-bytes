{
 "cells": [
  {
   "cell_type": "markdown",
   "id": "ed3352cb",
   "metadata": {},
   "source": [
    "Lambda Function"
   ]
  },
  {
   "cell_type": "markdown",
   "id": "97d88030",
   "metadata": {},
   "source": [
    " A lambda function is a small, anonymous function (without a name) used for short, simple tasks.\n",
    "\n"
   ]
  },
  {
   "cell_type": "code",
   "execution_count": null,
   "id": "05b850ba",
   "metadata": {},
   "outputs": [
    {
     "name": "stdout",
     "output_type": "stream",
     "text": [
      "30\n"
     ]
    },
    {
     "data": {
      "text/plain": [
       "100"
      ]
     },
     "execution_count": 5,
     "metadata": {},
     "output_type": "execute_result"
    }
   ],
   "source": [
    "#lambda arguments: expression\n",
    "\n",
    "add = lambda x,y :  x+y\n",
    "print(add(10,20))\n",
    "\n",
    "\n",
    "def add(x,y):\n",
    "    return x+y\n",
    "add(45,55)"
   ]
  },
  {
   "cell_type": "markdown",
   "id": "2fbc1fce",
   "metadata": {},
   "source": [
    "Map() :    Transform Each Element\n"
   ]
  },
  {
   "cell_type": "code",
   "execution_count": 8,
   "id": "7276b94e",
   "metadata": {},
   "outputs": [
    {
     "name": "stdout",
     "output_type": "stream",
     "text": [
      "[1, 4, 9, 16, 25, 36, 49, 64, 81, 100]\n",
      "[32.0, 50.0, 68.0, 86.0, 104.0, 122.0, 140.0, 158.0, 176.0, 194.0, 212.0]\n"
     ]
    }
   ],
   "source": [
    "# map(function ,iterable)\n",
    "# Applies a function to every item in an iterable.\n",
    "\n",
    "num_list = [1,2,3,4,5,6,7,8,9,10]\n",
    "squared = list(map(lambda x :x**2,num_list))\n",
    "print(squared)\n",
    "\n",
    "# Real Use Case Example :\n",
    "celsius = [0,10,20,30,40,50,60,70,80,90,100]\n",
    "fahrenheit = list(map(lambda x : (x * 9/5)+32,celsius))\n",
    "print(fahrenheit)\n"
   ]
  },
  {
   "cell_type": "markdown",
   "id": "db49cc76",
   "metadata": {},
   "source": [
    "Filter() : Filter Elements by Condition"
   ]
  },
  {
   "cell_type": "code",
   "execution_count": 24,
   "id": "e3ee8015",
   "metadata": {},
   "outputs": [
    {
     "name": "stdout",
     "output_type": "stream",
     "text": [
      "[2, 4, 6, 8, 10]\n",
      "[('Muhammad', 55), ('Ali', 50), ('Zare', 85)]\n"
     ]
    }
   ],
   "source": [
    "# filter (function , iterable)\n",
    "# Returns only elements that meet a condition (True) from an iterable.\n",
    "num_list2 = [1,2,3,4,5,6,7,8,9,10]\n",
    "even = list (filter(lambda x : x%2 == 0 ,num_list2))\n",
    "print(even)\n",
    "\n",
    "# Real use case Example :\n",
    "\n",
    "students = [(\"Muhammad\",55),(\"Ali\",50),(\"Zare\",85),(\"Ahmed\",30)]\n",
    "passed = list(filter(lambda student : student[1] >= 50,students))\n",
    "print(passed)"
   ]
  },
  {
   "cell_type": "markdown",
   "id": "e7e9acf8",
   "metadata": {},
   "source": [
    "Reduce():    Reduce to a Single Value"
   ]
  },
  {
   "cell_type": "code",
   "execution_count": null,
   "id": "00010611",
   "metadata": {},
   "outputs": [
    {
     "name": "stdout",
     "output_type": "stream",
     "text": [
      "[('Ali', 50), ('Zare', 85)]\n"
     ]
    }
   ],
   "source": [
    "# from functools import reduce \n",
    "#)\n",
    "#Applies a function cumulatively to items in an iterable (must import from functools).\n",
    "\n"
   ]
  },
  {
   "cell_type": "code",
   "execution_count": null,
   "id": "facebcdf",
   "metadata": {},
   "outputs": [],
   "source": []
  }
 ],
 "metadata": {
  "kernelspec": {
   "display_name": "base",
   "language": "python",
   "name": "python3"
  },
  "language_info": {
   "codemirror_mode": {
    "name": "ipython",
    "version": 3
   },
   "file_extension": ".py",
   "mimetype": "text/x-python",
   "name": "python",
   "nbconvert_exporter": "python",
   "pygments_lexer": "ipython3",
   "version": "3.11.4"
  }
 },
 "nbformat": 4,
 "nbformat_minor": 5
}
