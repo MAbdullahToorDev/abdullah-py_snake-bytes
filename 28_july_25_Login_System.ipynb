{
 "cells": [
  {
   "cell_type": "markdown",
   "id": "37f1ea03",
   "metadata": {},
   "source": [
    "# Login System with File "
   ]
  },
  {
   "cell_type": "markdown",
   "id": "5e4127c0",
   "metadata": {},
   "source": [
    "# Register"
   ]
  },
  {
   "cell_type": "code",
   "execution_count": 1,
   "id": "a68e0deb",
   "metadata": {},
   "outputs": [],
   "source": [
    "def register():\n",
    "    username= input(\"Enter a username: \").strip()\n",
    "    password= input(\"Enter a Passwprd: \").strip()\n",
    "\n",
    "    # Open the file in append mode (adds data without deleting existing content)\n",
    "    with open(\"users.txt\",\"a\") as file:\n",
    "        file.write(f\"{username},{password}\\n\")\n",
    "    print(\"Registration Successful!\")\n",
    "        \n",
    "\n"
   ]
  },
  {
   "cell_type": "markdown",
   "id": "4082bc88",
   "metadata": {},
   "source": [
    "# Login"
   ]
  },
  {
   "cell_type": "code",
   "execution_count": 2,
   "id": "8f133c9f",
   "metadata": {},
   "outputs": [],
   "source": [
    "# Function to register a new user\n",
    "def register():\n",
    "    username = input(\"Enter a username: \").strip()\n",
    "    password = input(\"Enter a password: \").strip()\n",
    "\n",
    "    with open(\"users.txt\", \"a\") as file:\n",
    "        file.write(f\"{username},{password}\\n\")\n",
    "    print(\"✅ Registration successful!\")\n",
    "\n",
    "# Function to login an existing user\n",
    "def login():\n",
    "    username = input(\"Enter your username: \").strip()\n",
    "    password = input(\"Enter your password: \").strip()\n",
    "\n",
    "    try:\n",
    "        with open(\"users.txt\", \"r\") as file:\n",
    "            users = file.readlines()\n",
    "\n",
    "            for user in users:\n",
    "                saved_username, saved_password = user.strip().split(\",\")\n",
    "\n",
    "                # Strip both saved and input values before comparing\n",
    "                if saved_username.strip() == username and saved_password.strip() == password:\n",
    "                    print(\"✅ Login successful!\")\n",
    "                    return\n",
    "    except FileNotFoundError:\n",
    "        print(\"❌ No users registered yet.\")\n",
    "        return\n",
    "\n",
    "    print(\"❌ Invalid username or password!\")\n",
    "\n",
    "            \n",
    "\n"
   ]
  },
  {
   "cell_type": "code",
   "execution_count": 3,
   "id": "e94aee70",
   "metadata": {},
   "outputs": [
    {
     "name": "stdout",
     "output_type": "stream",
     "text": [
      "\n",
      " ----- Welcome to the Login System ------\n",
      "1. Register\n",
      "2. Login\n",
      "3.Exit\n",
      "✅ Registration successful!\n",
      "\n",
      " ----- Welcome to the Login System ------\n",
      "1. Register\n",
      "2. Login\n",
      "3.Exit\n",
      "✅ Login successful!\n",
      "\n",
      " ----- Welcome to the Login System ------\n",
      "1. Register\n",
      "2. Login\n",
      "3.Exit\n",
      "Existing the program. \n",
      " Good Bye!\n"
     ]
    }
   ],
   "source": [
    "while True:\n",
    "    print(\"\\n ----- Welcome to the Login System ------\")\n",
    "    print(\"1. Register\")\n",
    "    print(\"2. Login\")\n",
    "    print(\"3.Exit\")\n",
    "\n",
    "    choice = input(\"Chose an option :\")\n",
    "    \n",
    "    if choice == \"1\":\n",
    "        register()\n",
    "    elif choice == \"2\":\n",
    "        login()\n",
    "    elif choice == \"3\":\n",
    "        print(\"Existing the program. \\n Good Bye!\")\n",
    "        break\n",
    "    else:\n",
    "        print(\"Invalid choice . \\n Please Try agane.\")        \n"
   ]
  },
  {
   "cell_type": "markdown",
   "id": "77c9c089",
   "metadata": {},
   "source": []
  }
 ],
 "metadata": {
  "kernelspec": {
   "display_name": "base",
   "language": "python",
   "name": "python3"
  },
  "language_info": {
   "codemirror_mode": {
    "name": "ipython",
    "version": 3
   },
   "file_extension": ".py",
   "mimetype": "text/x-python",
   "name": "python",
   "nbconvert_exporter": "python",
   "pygments_lexer": "ipython3",
   "version": "3.11.4"
  }
 },
 "nbformat": 4,
 "nbformat_minor": 5
}
