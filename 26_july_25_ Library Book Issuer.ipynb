{
 "cells": [
  {
   "cell_type": "markdown",
   "id": "1c70aee3",
   "metadata": {},
   "source": [
    "# Features:\n",
    "Add books to library\n",
    "\n",
    "Add users\n",
    "\n",
    "Issue books to users\n",
    "\n",
    "Return books\n",
    "\n",
    "Save and load data from a file"
   ]
  },
  {
   "cell_type": "code",
   "execution_count": 1,
   "id": "4bcb9ca4",
   "metadata": {},
   "outputs": [],
   "source": [
    "import os \n",
    "import json\n"
   ]
  },
  {
   "cell_type": "markdown",
   "id": "3f570161",
   "metadata": {},
   "source": [
    "# Import Data file"
   ]
  },
  {
   "cell_type": "code",
   "execution_count": 2,
   "id": "97f42b7f",
   "metadata": {},
   "outputs": [],
   "source": [
    "File = \"library.json\""
   ]
  },
  {
   "cell_type": "markdown",
   "id": "916d4597",
   "metadata": {},
   "source": [
    "# Load & Save"
   ]
  },
  {
   "cell_type": "code",
   "execution_count": 3,
   "id": "bd2ae479",
   "metadata": {},
   "outputs": [],
   "source": [
    "def load_data():\n",
    "    if os.path.exists(File):\n",
    "        with open(File, \"r\") as f:\n",
    "            return json.load(f)\n",
    "    else:\n",
    "        return{\"books\":{},\"users\":[]}\n",
    "    \n",
    "def save_data(data):\n",
    "    with open(File, \"w\") as f:\n",
    "        json.dump(data, f, indent=4)    \n",
    "       "
   ]
  },
  {
   "cell_type": "markdown",
   "id": "de0c6596",
   "metadata": {},
   "source": [
    "# add_book"
   ]
  },
  {
   "cell_type": "code",
   "execution_count": 4,
   "id": "b377d477",
   "metadata": {},
   "outputs": [],
   "source": [
    "def add_book(data):\n",
    "    book = input(\"Enter Book Name: \").strip()\n",
    "    if book in data[\"books\"]:\n",
    "        print(\"Book already exists. \")\n",
    "    else:\n",
    "        data[\"books\"][book]=True\n",
    "        print(f\"'{book}' added\")\n",
    "            "
   ]
  },
  {
   "cell_type": "markdown",
   "id": "78d72c05",
   "metadata": {},
   "source": [
    "# view_books"
   ]
  },
  {
   "cell_type": "code",
   "execution_count": 5,
   "id": "ac0d3667",
   "metadata": {},
   "outputs": [],
   "source": [
    "def view_books(data):\n",
    "    print(\"Books in Library:\")\n",
    "    for book, avalible in data[\"books\"].items():\n",
    "        status= \"Avalible\" if avalible else \"Issued\"\n",
    "        print(f\" - {book} [{status}]\")"
   ]
  },
  {
   "cell_type": "markdown",
   "id": "6b2ccbdc",
   "metadata": {},
   "source": [
    "# issue_book"
   ]
  },
  {
   "cell_type": "code",
   "execution_count": 6,
   "id": "6539323f",
   "metadata": {},
   "outputs": [],
   "source": [
    "def issue_book(data):\n",
    "    user = input(\"Enter your name: \").strip()\n",
    "    book = input(\"Enter book to Issue: \" ).strip()\n",
    "    if book not in book[\"books\"]:\n",
    "        print(\"Book already issued.\")\n",
    "    else:\n",
    "        if user not in data[\"users\"]:\n",
    "            data[\"users\"].append(user)\n",
    "\n",
    "        data[\"books\"] [book] = False\n",
    "        print(f\"{book} issued to {user}.\")     \n",
    "\n"
   ]
  },
  {
   "cell_type": "markdown",
   "id": "aecf65ab",
   "metadata": {},
   "source": [
    "# return_book"
   ]
  },
  {
   "cell_type": "code",
   "execution_count": 7,
   "id": "65d06f39",
   "metadata": {},
   "outputs": [],
   "source": [
    "def return_book(book):\n",
    "    book= input(\"Enter book to return.\").strip()\n",
    "    if book in data[\"books\"] and not data[\"books\"] [book]:\n",
    "        data[\"books\"] [book] = True\n",
    "        print(f\"{book} returned.\")\n",
    "    else:\n",
    "        print(\"Book not found or Already returned.\")   \n",
    "         "
   ]
  },
  {
   "cell_type": "markdown",
   "id": "6119d7ac",
   "metadata": {},
   "source": [
    "# Main Manu"
   ]
  },
  {
   "cell_type": "code",
   "execution_count": 8,
   "id": "1d11b095",
   "metadata": {},
   "outputs": [
    {
     "name": "stdout",
     "output_type": "stream",
     "text": [
      "\n",
      "Library Menu:\n",
      "1. View Books:\n",
      "2. Add Book:\n",
      "3. Issue Book\n",
      "4. Return Book\n",
      "5. Exit\n",
      "invalid Choice.\n",
      "\n",
      "Library Menu:\n",
      "1. View Books:\n",
      "2. Add Book:\n",
      "3. Issue Book\n",
      "4. Return Book\n",
      "5. Exit\n",
      "'Abdullah' added\n",
      "\n",
      "Library Menu:\n",
      "1. View Books:\n",
      "2. Add Book:\n",
      "3. Issue Book\n",
      "4. Return Book\n",
      "5. Exit\n",
      "invalid Choice.\n",
      "\n",
      "Library Menu:\n",
      "1. View Books:\n",
      "2. Add Book:\n",
      "3. Issue Book\n",
      "4. Return Book\n",
      "5. Exit\n",
      "Library data save. Goodbye!\n"
     ]
    }
   ],
   "source": [
    "def main():\n",
    "    data=load_data()\n",
    "    while True:\n",
    "        print(\"\\nLibrary Menu:\")\n",
    "        print(\"1. View Books:\")\n",
    "        print(\"2. Add Book:\")\n",
    "        print(\"3. Issue Book\")\n",
    "        print(\"4. Return Book\")\n",
    "        print(\"5. Exit\")\n",
    "\n",
    "        choice = input(\"Enter your choice:\")\n",
    "        if choice == \"1\":\n",
    "            view_books(data)\n",
    "        elif choice == \"2\":\n",
    "            add_book(data)\n",
    "        elif choice == \"3\":\n",
    "            issue_book(data)\n",
    "        elif choice == \"4\":\n",
    "            return_book(data)\n",
    "        elif choice == \"5\":\n",
    "            save_data(data)  \n",
    "            print(\"Library data save. Goodbye!\")\n",
    "            break\n",
    "        else:\n",
    "            print(\"invalid Choice.\")    \n",
    "\n",
    "if __name__== \"__main__\":\n",
    "    main()"
   ]
  },
  {
   "cell_type": "code",
   "execution_count": null,
   "id": "6759831a",
   "metadata": {},
   "outputs": [],
   "source": []
  }
 ],
 "metadata": {
  "kernelspec": {
   "display_name": "base",
   "language": "python",
   "name": "python3"
  },
  "language_info": {
   "codemirror_mode": {
    "name": "ipython",
    "version": 3
   },
   "file_extension": ".py",
   "mimetype": "text/x-python",
   "name": "python",
   "nbconvert_exporter": "python",
   "pygments_lexer": "ipython3",
   "version": "3.11.4"
  }
 },
 "nbformat": 4,
 "nbformat_minor": 5
}
